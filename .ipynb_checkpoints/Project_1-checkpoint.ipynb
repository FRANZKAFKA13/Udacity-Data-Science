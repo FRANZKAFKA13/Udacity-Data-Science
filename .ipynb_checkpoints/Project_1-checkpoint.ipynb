{
 "cells": [
  {
   "cell_type": "markdown",
   "metadata": {},
   "source": [
    "# Project 1 — Seattle Airbnb Open Data"
   ]
  },
  {
   "cell_type": "markdown",
   "metadata": {},
   "source": [
    "## 1 CRISP"
   ]
  },
  {
   "cell_type": "markdown",
   "metadata": {},
   "source": [
    "##### Cross-Industry Process for Data Mining \n",
    "\n",
    "This project follows the CRISP-DM Process.\n",
    "\n",
    "* Business Understanding \n",
    "* Data Understanding \n",
    "* Prepare Data \n",
    "* Data Modeling \n",
    "* Evaluate the Results \n",
    "* Deploy "
   ]
  },
  {
   "cell_type": "markdown",
   "metadata": {},
   "source": [
    "## 2 Business Understanding "
   ]
  },
  {
   "cell_type": "markdown",
   "metadata": {},
   "source": [
    "Airbnb is a platform that has been growing tremendously in the last couple of years. At least before the COVID-19 pandemic, travelling was more popular than ever, especially with the rise of Instagram bloggers that travel the world and share their impressions.\n",
    "\n",
    "Therefore, many people see Airbnb as an opportunity to earn money. Maybe they are parents whose kids moved out already, which means they have some rooms to spare. Others might invest into real estate and use Airbnb as a platform to find potential tenants.\n",
    "\n",
    "For those people, of course, one of the most interesting questions would be how they can maximize their return on investment. To assist our decision making with empirical data, I analyzed 3818 Airbnb listings from the Kaggle Seattle Airbnb dataset."
   ]
  },
  {
   "cell_type": "markdown",
   "metadata": {},
   "source": [
    "### 2.1 Questions"
   ]
  },
  {
   "cell_type": "markdown",
   "metadata": {},
   "source": [
    "#### Question 1"
   ]
  },
  {
   "cell_type": "markdown",
   "metadata": {},
   "source": [
    "One of the first things to look out for when it comes to real estate is the location. Therefore, I want to know which areas are most expensive and therefore maybe also most lucrative."
   ]
  },
  {
   "cell_type": "markdown",
   "metadata": {},
   "source": [
    "#### Question 2"
   ]
  },
  {
   "cell_type": "markdown",
   "metadata": {},
   "source": [
    "Once the location is set, there might be other things we can optimize to maximize ROI. Maybe there are things on the listing page that we can tweak? Maybe we need to invest in amenities? Therefore, the question is: which factors have the highest impact on prices?"
   ]
  },
  {
   "cell_type": "markdown",
   "metadata": {},
   "source": [
    "#### Question 3"
   ]
  },
  {
   "cell_type": "markdown",
   "metadata": {},
   "source": [
    "A friend has an apartment in Seattle downtown that he wants to rent out via Airbnb. It has one big bedroom, a kitchen and one bathroom. Should he invest money to split the bedroom into two rooms?"
   ]
  },
  {
   "cell_type": "markdown",
   "metadata": {},
   "source": [
    "## 3 Data Understanding"
   ]
  },
  {
   "cell_type": "markdown",
   "metadata": {},
   "source": [
    "#### Import Packages"
   ]
  },
  {
   "cell_type": "code",
   "execution_count": 1,
   "metadata": {},
   "outputs": [
    {
     "name": "stdout",
     "output_type": "stream",
     "text": [
      "Imported packages\n"
     ]
    }
   ],
   "source": [
    "# Standard\n",
    "import os\n",
    "import sys\n",
    "import numpy as np \n",
    "import pandas as pd \n",
    "import matplotlib.pyplot as plt \n",
    "import seaborn as sns  \n",
    "\n",
    "# Modeling\n",
    "from sklearn.linear_model import LinearRegression \n",
    "from sklearn.model_selection import train_test_split \n",
    "from sklearn.metrics import r2_score, mean_squared_error \n",
    "\n",
    "from IPython import display \n",
    "%matplotlib inline\n",
    "print('Imported packages')"
   ]
  },
  {
   "cell_type": "markdown",
   "metadata": {},
   "source": [
    "#### Read Listings Data"
   ]
  },
  {
   "cell_type": "code",
   "execution_count": 2,
   "metadata": {
    "scrolled": false
   },
   "outputs": [
    {
     "data": {
      "text/html": [
       "<div>\n",
       "<style scoped>\n",
       "    .dataframe tbody tr th:only-of-type {\n",
       "        vertical-align: middle;\n",
       "    }\n",
       "\n",
       "    .dataframe tbody tr th {\n",
       "        vertical-align: top;\n",
       "    }\n",
       "\n",
       "    .dataframe thead th {\n",
       "        text-align: right;\n",
       "    }\n",
       "</style>\n",
       "<table border=\"1\" class=\"dataframe\">\n",
       "  <thead>\n",
       "    <tr style=\"text-align: right;\">\n",
       "      <th></th>\n",
       "      <th>id</th>\n",
       "      <th>listing_url</th>\n",
       "      <th>scrape_id</th>\n",
       "      <th>last_scraped</th>\n",
       "      <th>name</th>\n",
       "      <th>summary</th>\n",
       "      <th>space</th>\n",
       "      <th>description</th>\n",
       "      <th>experiences_offered</th>\n",
       "      <th>neighborhood_overview</th>\n",
       "      <th>...</th>\n",
       "      <th>review_scores_value</th>\n",
       "      <th>requires_license</th>\n",
       "      <th>license</th>\n",
       "      <th>jurisdiction_names</th>\n",
       "      <th>instant_bookable</th>\n",
       "      <th>cancellation_policy</th>\n",
       "      <th>require_guest_profile_picture</th>\n",
       "      <th>require_guest_phone_verification</th>\n",
       "      <th>calculated_host_listings_count</th>\n",
       "      <th>reviews_per_month</th>\n",
       "    </tr>\n",
       "  </thead>\n",
       "  <tbody>\n",
       "    <tr>\n",
       "      <td>0</td>\n",
       "      <td>241032</td>\n",
       "      <td>https://www.airbnb.com/rooms/241032</td>\n",
       "      <td>20160104002432</td>\n",
       "      <td>2016-01-04</td>\n",
       "      <td>Stylish Queen Anne Apartment</td>\n",
       "      <td>NaN</td>\n",
       "      <td>Make your self at home in this charming one-be...</td>\n",
       "      <td>Make your self at home in this charming one-be...</td>\n",
       "      <td>none</td>\n",
       "      <td>NaN</td>\n",
       "      <td>...</td>\n",
       "      <td>10.0</td>\n",
       "      <td>f</td>\n",
       "      <td>NaN</td>\n",
       "      <td>WASHINGTON</td>\n",
       "      <td>f</td>\n",
       "      <td>moderate</td>\n",
       "      <td>f</td>\n",
       "      <td>f</td>\n",
       "      <td>2</td>\n",
       "      <td>4.07</td>\n",
       "    </tr>\n",
       "    <tr>\n",
       "      <td>1</td>\n",
       "      <td>953595</td>\n",
       "      <td>https://www.airbnb.com/rooms/953595</td>\n",
       "      <td>20160104002432</td>\n",
       "      <td>2016-01-04</td>\n",
       "      <td>Bright &amp; Airy Queen Anne Apartment</td>\n",
       "      <td>Chemically sensitive? We've removed the irrita...</td>\n",
       "      <td>Beautiful, hypoallergenic apartment in an extr...</td>\n",
       "      <td>Chemically sensitive? We've removed the irrita...</td>\n",
       "      <td>none</td>\n",
       "      <td>Queen Anne is a wonderful, truly functional vi...</td>\n",
       "      <td>...</td>\n",
       "      <td>10.0</td>\n",
       "      <td>f</td>\n",
       "      <td>NaN</td>\n",
       "      <td>WASHINGTON</td>\n",
       "      <td>f</td>\n",
       "      <td>strict</td>\n",
       "      <td>t</td>\n",
       "      <td>t</td>\n",
       "      <td>6</td>\n",
       "      <td>1.48</td>\n",
       "    </tr>\n",
       "  </tbody>\n",
       "</table>\n",
       "<p>2 rows × 92 columns</p>\n",
       "</div>"
      ],
      "text/plain": [
       "       id                          listing_url       scrape_id last_scraped  \\\n",
       "0  241032  https://www.airbnb.com/rooms/241032  20160104002432   2016-01-04   \n",
       "1  953595  https://www.airbnb.com/rooms/953595  20160104002432   2016-01-04   \n",
       "\n",
       "                                 name  \\\n",
       "0        Stylish Queen Anne Apartment   \n",
       "1  Bright & Airy Queen Anne Apartment   \n",
       "\n",
       "                                             summary  \\\n",
       "0                                                NaN   \n",
       "1  Chemically sensitive? We've removed the irrita...   \n",
       "\n",
       "                                               space  \\\n",
       "0  Make your self at home in this charming one-be...   \n",
       "1  Beautiful, hypoallergenic apartment in an extr...   \n",
       "\n",
       "                                         description experiences_offered  \\\n",
       "0  Make your self at home in this charming one-be...                none   \n",
       "1  Chemically sensitive? We've removed the irrita...                none   \n",
       "\n",
       "                               neighborhood_overview  ... review_scores_value  \\\n",
       "0                                                NaN  ...                10.0   \n",
       "1  Queen Anne is a wonderful, truly functional vi...  ...                10.0   \n",
       "\n",
       "  requires_license license jurisdiction_names instant_bookable  \\\n",
       "0                f     NaN         WASHINGTON                f   \n",
       "1                f     NaN         WASHINGTON                f   \n",
       "\n",
       "  cancellation_policy  require_guest_profile_picture  \\\n",
       "0            moderate                              f   \n",
       "1              strict                              t   \n",
       "\n",
       "  require_guest_phone_verification calculated_host_listings_count  \\\n",
       "0                                f                              2   \n",
       "1                                t                              6   \n",
       "\n",
       "  reviews_per_month  \n",
       "0              4.07  \n",
       "1              1.48  \n",
       "\n",
       "[2 rows x 92 columns]"
      ]
     },
     "execution_count": 2,
     "metadata": {},
     "output_type": "execute_result"
    }
   ],
   "source": [
    "df_listings = pd.read_csv('./Data/Seattle Airbnb Open Data/listings.csv') \n",
    "df_listings.head(2)"
   ]
  },
  {
   "cell_type": "code",
   "execution_count": 3,
   "metadata": {},
   "outputs": [
    {
     "data": {
      "text/plain": [
       "'https://www.airbnb.com/rooms/241032'"
      ]
     },
     "execution_count": 3,
     "metadata": {},
     "output_type": "execute_result"
    }
   ],
   "source": [
    "df_listings['listing_url'][0]"
   ]
  },
  {
   "cell_type": "code",
   "execution_count": 4,
   "metadata": {},
   "outputs": [
    {
     "name": "stdout",
     "output_type": "stream",
     "text": [
      "<class 'pandas.core.frame.DataFrame'>\n",
      "RangeIndex: 3818 entries, 0 to 3817\n",
      "Data columns (total 92 columns):\n",
      "id                                  3818 non-null int64\n",
      "listing_url                         3818 non-null object\n",
      "scrape_id                           3818 non-null int64\n",
      "last_scraped                        3818 non-null object\n",
      "name                                3818 non-null object\n",
      "summary                             3641 non-null object\n",
      "space                               3249 non-null object\n",
      "description                         3818 non-null object\n",
      "experiences_offered                 3818 non-null object\n",
      "neighborhood_overview               2786 non-null object\n",
      "notes                               2212 non-null object\n",
      "transit                             2884 non-null object\n",
      "thumbnail_url                       3498 non-null object\n",
      "medium_url                          3498 non-null object\n",
      "picture_url                         3818 non-null object\n",
      "xl_picture_url                      3498 non-null object\n",
      "host_id                             3818 non-null int64\n",
      "host_url                            3818 non-null object\n",
      "host_name                           3816 non-null object\n",
      "host_since                          3816 non-null object\n",
      "host_location                       3810 non-null object\n",
      "host_about                          2959 non-null object\n",
      "host_response_time                  3295 non-null object\n",
      "host_response_rate                  3295 non-null object\n",
      "host_acceptance_rate                3045 non-null object\n",
      "host_is_superhost                   3816 non-null object\n",
      "host_thumbnail_url                  3816 non-null object\n",
      "host_picture_url                    3816 non-null object\n",
      "host_neighbourhood                  3518 non-null object\n",
      "host_listings_count                 3816 non-null float64\n",
      "host_total_listings_count           3816 non-null float64\n",
      "host_verifications                  3818 non-null object\n",
      "host_has_profile_pic                3816 non-null object\n",
      "host_identity_verified              3816 non-null object\n",
      "street                              3818 non-null object\n",
      "neighbourhood                       3402 non-null object\n",
      "neighbourhood_cleansed              3818 non-null object\n",
      "neighbourhood_group_cleansed        3818 non-null object\n",
      "city                                3818 non-null object\n",
      "state                               3818 non-null object\n",
      "zipcode                             3811 non-null object\n",
      "market                              3818 non-null object\n",
      "smart_location                      3818 non-null object\n",
      "country_code                        3818 non-null object\n",
      "country                             3818 non-null object\n",
      "latitude                            3818 non-null float64\n",
      "longitude                           3818 non-null float64\n",
      "is_location_exact                   3818 non-null object\n",
      "property_type                       3817 non-null object\n",
      "room_type                           3818 non-null object\n",
      "accommodates                        3818 non-null int64\n",
      "bathrooms                           3802 non-null float64\n",
      "bedrooms                            3812 non-null float64\n",
      "beds                                3817 non-null float64\n",
      "bed_type                            3818 non-null object\n",
      "amenities                           3818 non-null object\n",
      "square_feet                         97 non-null float64\n",
      "price                               3818 non-null object\n",
      "weekly_price                        2009 non-null object\n",
      "monthly_price                       1517 non-null object\n",
      "security_deposit                    1866 non-null object\n",
      "cleaning_fee                        2788 non-null object\n",
      "guests_included                     3818 non-null int64\n",
      "extra_people                        3818 non-null object\n",
      "minimum_nights                      3818 non-null int64\n",
      "maximum_nights                      3818 non-null int64\n",
      "calendar_updated                    3818 non-null object\n",
      "has_availability                    3818 non-null object\n",
      "availability_30                     3818 non-null int64\n",
      "availability_60                     3818 non-null int64\n",
      "availability_90                     3818 non-null int64\n",
      "availability_365                    3818 non-null int64\n",
      "calendar_last_scraped               3818 non-null object\n",
      "number_of_reviews                   3818 non-null int64\n",
      "first_review                        3191 non-null object\n",
      "last_review                         3191 non-null object\n",
      "review_scores_rating                3171 non-null float64\n",
      "review_scores_accuracy              3160 non-null float64\n",
      "review_scores_cleanliness           3165 non-null float64\n",
      "review_scores_checkin               3160 non-null float64\n",
      "review_scores_communication         3167 non-null float64\n",
      "review_scores_location              3163 non-null float64\n",
      "review_scores_value                 3162 non-null float64\n",
      "requires_license                    3818 non-null object\n",
      "license                             0 non-null float64\n",
      "jurisdiction_names                  3818 non-null object\n",
      "instant_bookable                    3818 non-null object\n",
      "cancellation_policy                 3818 non-null object\n",
      "require_guest_profile_picture       3818 non-null object\n",
      "require_guest_phone_verification    3818 non-null object\n",
      "calculated_host_listings_count      3818 non-null int64\n",
      "reviews_per_month                   3191 non-null float64\n",
      "dtypes: float64(17), int64(13), object(62)\n",
      "memory usage: 2.7+ MB\n"
     ]
    }
   ],
   "source": [
    "df_listings.info()"
   ]
  },
  {
   "cell_type": "markdown",
   "metadata": {},
   "source": [
    "#### Read Calendar Data"
   ]
  },
  {
   "cell_type": "code",
   "execution_count": 5,
   "metadata": {},
   "outputs": [
    {
     "data": {
      "text/html": [
       "<div>\n",
       "<style scoped>\n",
       "    .dataframe tbody tr th:only-of-type {\n",
       "        vertical-align: middle;\n",
       "    }\n",
       "\n",
       "    .dataframe tbody tr th {\n",
       "        vertical-align: top;\n",
       "    }\n",
       "\n",
       "    .dataframe thead th {\n",
       "        text-align: right;\n",
       "    }\n",
       "</style>\n",
       "<table border=\"1\" class=\"dataframe\">\n",
       "  <thead>\n",
       "    <tr style=\"text-align: right;\">\n",
       "      <th></th>\n",
       "      <th>listing_id</th>\n",
       "      <th>date</th>\n",
       "      <th>available</th>\n",
       "      <th>price</th>\n",
       "    </tr>\n",
       "  </thead>\n",
       "  <tbody>\n",
       "    <tr>\n",
       "      <td>0</td>\n",
       "      <td>241032</td>\n",
       "      <td>2016-01-04</td>\n",
       "      <td>t</td>\n",
       "      <td>$85.00</td>\n",
       "    </tr>\n",
       "    <tr>\n",
       "      <td>1</td>\n",
       "      <td>241032</td>\n",
       "      <td>2016-01-05</td>\n",
       "      <td>t</td>\n",
       "      <td>$85.00</td>\n",
       "    </tr>\n",
       "    <tr>\n",
       "      <td>2</td>\n",
       "      <td>241032</td>\n",
       "      <td>2016-01-06</td>\n",
       "      <td>f</td>\n",
       "      <td>NaN</td>\n",
       "    </tr>\n",
       "    <tr>\n",
       "      <td>3</td>\n",
       "      <td>241032</td>\n",
       "      <td>2016-01-07</td>\n",
       "      <td>f</td>\n",
       "      <td>NaN</td>\n",
       "    </tr>\n",
       "    <tr>\n",
       "      <td>4</td>\n",
       "      <td>241032</td>\n",
       "      <td>2016-01-08</td>\n",
       "      <td>f</td>\n",
       "      <td>NaN</td>\n",
       "    </tr>\n",
       "  </tbody>\n",
       "</table>\n",
       "</div>"
      ],
      "text/plain": [
       "   listing_id        date available   price\n",
       "0      241032  2016-01-04         t  $85.00\n",
       "1      241032  2016-01-05         t  $85.00\n",
       "2      241032  2016-01-06         f     NaN\n",
       "3      241032  2016-01-07         f     NaN\n",
       "4      241032  2016-01-08         f     NaN"
      ]
     },
     "execution_count": 5,
     "metadata": {},
     "output_type": "execute_result"
    }
   ],
   "source": [
    "df_calendar = pd.read_csv('./Data/Seattle Airbnb Open Data/calendar.csv') \n",
    "df_calendar.head(5)"
   ]
  },
  {
   "cell_type": "code",
   "execution_count": 6,
   "metadata": {},
   "outputs": [
    {
     "data": {
      "text/plain": [
       "6752031     365\n",
       "7404370     365\n",
       "1259305     365\n",
       "4672934     365\n",
       "10310373    365\n",
       "           ... \n",
       "9999759     365\n",
       "9048029     365\n",
       "8441477     365\n",
       "7984550     365\n",
       "9484823     365\n",
       "Name: listing_id, Length: 3818, dtype: int64"
      ]
     },
     "execution_count": 6,
     "metadata": {},
     "output_type": "execute_result"
    }
   ],
   "source": [
    "df_calendar['listing_id'].value_counts()"
   ]
  },
  {
   "cell_type": "code",
   "execution_count": 7,
   "metadata": {},
   "outputs": [
    {
     "data": {
      "text/plain": [
       "(1393570, 4)"
      ]
     },
     "execution_count": 7,
     "metadata": {},
     "output_type": "execute_result"
    }
   ],
   "source": [
    "df_calendar.shape"
   ]
  },
  {
   "cell_type": "code",
   "execution_count": 8,
   "metadata": {},
   "outputs": [
    {
     "name": "stdout",
     "output_type": "stream",
     "text": [
      "<class 'pandas.core.frame.DataFrame'>\n",
      "RangeIndex: 1393570 entries, 0 to 1393569\n",
      "Data columns (total 4 columns):\n",
      "listing_id    1393570 non-null int64\n",
      "date          1393570 non-null object\n",
      "available     1393570 non-null object\n",
      "price         934542 non-null object\n",
      "dtypes: int64(1), object(3)\n",
      "memory usage: 42.5+ MB\n"
     ]
    }
   ],
   "source": [
    "df_calendar.info()"
   ]
  },
  {
   "cell_type": "markdown",
   "metadata": {},
   "source": [
    "#### Read Reviews Data"
   ]
  },
  {
   "cell_type": "code",
   "execution_count": 9,
   "metadata": {},
   "outputs": [
    {
     "data": {
      "text/html": [
       "<div>\n",
       "<style scoped>\n",
       "    .dataframe tbody tr th:only-of-type {\n",
       "        vertical-align: middle;\n",
       "    }\n",
       "\n",
       "    .dataframe tbody tr th {\n",
       "        vertical-align: top;\n",
       "    }\n",
       "\n",
       "    .dataframe thead th {\n",
       "        text-align: right;\n",
       "    }\n",
       "</style>\n",
       "<table border=\"1\" class=\"dataframe\">\n",
       "  <thead>\n",
       "    <tr style=\"text-align: right;\">\n",
       "      <th></th>\n",
       "      <th>listing_id</th>\n",
       "      <th>id</th>\n",
       "      <th>date</th>\n",
       "      <th>reviewer_id</th>\n",
       "      <th>reviewer_name</th>\n",
       "      <th>comments</th>\n",
       "    </tr>\n",
       "  </thead>\n",
       "  <tbody>\n",
       "    <tr>\n",
       "      <td>0</td>\n",
       "      <td>7202016</td>\n",
       "      <td>38917982</td>\n",
       "      <td>2015-07-19</td>\n",
       "      <td>28943674</td>\n",
       "      <td>Bianca</td>\n",
       "      <td>Cute and cozy place. Perfect location to every...</td>\n",
       "    </tr>\n",
       "    <tr>\n",
       "      <td>1</td>\n",
       "      <td>7202016</td>\n",
       "      <td>39087409</td>\n",
       "      <td>2015-07-20</td>\n",
       "      <td>32440555</td>\n",
       "      <td>Frank</td>\n",
       "      <td>Kelly has a great room in a very central locat...</td>\n",
       "    </tr>\n",
       "  </tbody>\n",
       "</table>\n",
       "</div>"
      ],
      "text/plain": [
       "   listing_id        id        date  reviewer_id reviewer_name  \\\n",
       "0     7202016  38917982  2015-07-19     28943674        Bianca   \n",
       "1     7202016  39087409  2015-07-20     32440555         Frank   \n",
       "\n",
       "                                            comments  \n",
       "0  Cute and cozy place. Perfect location to every...  \n",
       "1  Kelly has a great room in a very central locat...  "
      ]
     },
     "execution_count": 9,
     "metadata": {},
     "output_type": "execute_result"
    }
   ],
   "source": [
    "df_reviews = pd.read_csv('./Data/Seattle Airbnb Open Data/reviews.csv') \n",
    "df_reviews.head(2) "
   ]
  },
  {
   "cell_type": "code",
   "execution_count": 10,
   "metadata": {},
   "outputs": [
    {
     "data": {
      "text/plain": [
       "(84849, 6)"
      ]
     },
     "execution_count": 10,
     "metadata": {},
     "output_type": "execute_result"
    }
   ],
   "source": [
    "df_reviews.shape"
   ]
  },
  {
   "cell_type": "code",
   "execution_count": 11,
   "metadata": {},
   "outputs": [
    {
     "name": "stdout",
     "output_type": "stream",
     "text": [
      "<class 'pandas.core.frame.DataFrame'>\n",
      "RangeIndex: 84849 entries, 0 to 84848\n",
      "Data columns (total 6 columns):\n",
      "listing_id       84849 non-null int64\n",
      "id               84849 non-null int64\n",
      "date             84849 non-null object\n",
      "reviewer_id      84849 non-null int64\n",
      "reviewer_name    84849 non-null object\n",
      "comments         84831 non-null object\n",
      "dtypes: int64(3), object(3)\n",
      "memory usage: 3.9+ MB\n"
     ]
    }
   ],
   "source": [
    "df_reviews.info()"
   ]
  },
  {
   "cell_type": "markdown",
   "metadata": {},
   "source": [
    "## 4 Prepare Data "
   ]
  },
  {
   "cell_type": "markdown",
   "metadata": {},
   "source": [
    "### Add columns"
   ]
  },
  {
   "cell_type": "markdown",
   "metadata": {},
   "source": [
    "For URLs, add new columns indicating if they are available (e.g. availability of profile picture)."
   ]
  },
  {
   "cell_type": "code",
   "execution_count": 12,
   "metadata": {},
   "outputs": [],
   "source": [
    "df_listings['thumbnail_available'] = df_listings['thumbnail_url'].notnull()\n",
    "df_listings['picture_available'] = df_listings['picture_url'].notnull()\n",
    "df_listings['xl_picture_available'] = df_listings['xl_picture_url'].notnull()\n",
    "df_listings['host_thumbnail_available'] = df_listings['host_thumbnail_url'].notnull()\n",
    "df_listings['host_picture_available'] = df_listings['host_picture_url'].notnull()\n",
    "df_listings['host_about_available'] = df_listings['host_about'].notnull()\n",
    "df_listings['notes_available'] = df_listings['notes'].notnull()\n",
    "df_listings['security_deposit_required'] = df_listings['security_deposit'].notnull()\n",
    "df_listings['weekly_booking_available'] = df_listings['weekly_price'].notnull()\n",
    "df_listings['monthly_booking_available'] = df_listings['monthly_price'].notnull()"
   ]
  },
  {
   "cell_type": "code",
   "execution_count": 13,
   "metadata": {},
   "outputs": [
    {
     "data": {
      "text/plain": [
       "0       {TV,\"Cable TV\",Internet,\"Wireless Internet\",\"A...\n",
       "1       {TV,Internet,\"Wireless Internet\",Kitchen,\"Free...\n",
       "2       {TV,\"Cable TV\",Internet,\"Wireless Internet\",\"A...\n",
       "3       {Internet,\"Wireless Internet\",Kitchen,\"Indoor ...\n",
       "4       {TV,\"Cable TV\",Internet,\"Wireless Internet\",Ki...\n",
       "                              ...                        \n",
       "3813    {TV,\"Cable TV\",Internet,\"Wireless Internet\",\"A...\n",
       "3814    {TV,\"Cable TV\",Internet,\"Wireless Internet\",Ki...\n",
       "3815    {\"Cable TV\",\"Wireless Internet\",Kitchen,\"Free ...\n",
       "3816    {TV,\"Wireless Internet\",Kitchen,\"Free Parking ...\n",
       "3817    {TV,\"Cable TV\",Internet,\"Wireless Internet\",Ki...\n",
       "Name: amenities, Length: 3818, dtype: object"
      ]
     },
     "execution_count": 13,
     "metadata": {},
     "output_type": "execute_result"
    }
   ],
   "source": [
    "df_listings['amenities']"
   ]
  },
  {
   "cell_type": "markdown",
   "metadata": {},
   "source": [
    "I will omit the \"amenities\" column for this analysis, since I think this could be a whole other analysis. This is more relevant for when the real estate has already been obtained. Here it could also be interesting to investigate interaction effects or moderators."
   ]
  },
  {
   "cell_type": "markdown",
   "metadata": {},
   "source": [
    "### Show null values"
   ]
  },
  {
   "cell_type": "code",
   "execution_count": 14,
   "metadata": {},
   "outputs": [],
   "source": [
    "def give_missing_values(df, visualize = False, viz_thresh=0.00): \n",
    "\n",
    "    ''' \n",
    "    INPUT  \n",
    "        df - a dataframe\n",
    "        visualize - Flag indicating if visualization should be returned\n",
    "        viz_thresh - Threshold for fraction of missing values for row to be plotted\n",
    "\n",
    "    OUTPUT \n",
    "\n",
    "        missing_values_df - a dataframe with the percentage of missing values for each column in the given dataframe\n",
    "    ''' \n",
    "\n",
    "    percent_missing = df.isnull().sum() * 100 / len(df)\n",
    "    \n",
    "    missing_values_df = pd.DataFrame({'column_name': df.columns,\n",
    "                                      'percent_missing': percent_missing})\n",
    "    \n",
    "    missing_values_df = round(missing_values_df.sort_values(by=['percent_missing'], \n",
    "                                       ascending=False), 2)\n",
    "    missing_values_df_vis = missing_values_df[missing_values_df['percent_missing'] > viz_thresh]\n",
    "    \n",
    "    missing_values_df_vis = missing_values_df_vis.style.bar(align='mid', color=['#df4523'])\n",
    "    \n",
    "    \n",
    "    if visualize:\n",
    "        return missing_values_df_vis\n",
    "    else:\n",
    "        return missing_values_df"
   ]
  },
  {
   "cell_type": "code",
   "execution_count": 15,
   "metadata": {
    "scrolled": false
   },
   "outputs": [
    {
     "data": {
      "text/html": [
       "<style  type=\"text/css\" >\n",
       "    #T_272b6ff4_42b2_11eb_b92e_b42e9984f954row0_col1 {\n",
       "            width:  10em;\n",
       "             height:  80%;\n",
       "            background:  linear-gradient(90deg,#df4523 100.0%, transparent 100.0%);\n",
       "        }    #T_272b6ff4_42b2_11eb_b92e_b42e9984f954row1_col1 {\n",
       "            width:  10em;\n",
       "             height:  80%;\n",
       "            background:  linear-gradient(90deg,#df4523 97.5%, transparent 97.5%);\n",
       "        }    #T_272b6ff4_42b2_11eb_b92e_b42e9984f954row2_col1 {\n",
       "            width:  10em;\n",
       "             height:  80%;\n",
       "            background:  linear-gradient(90deg,#df4523 60.3%, transparent 60.3%);\n",
       "        }    #T_272b6ff4_42b2_11eb_b92e_b42e9984f954row3_col1 {\n",
       "            width:  10em;\n",
       "             height:  80%;\n",
       "            background:  linear-gradient(90deg,#df4523 51.1%, transparent 51.1%);\n",
       "        }    #T_272b6ff4_42b2_11eb_b92e_b42e9984f954row4_col1 {\n",
       "            width:  10em;\n",
       "             height:  80%;\n",
       "            background:  linear-gradient(90deg,#df4523 47.4%, transparent 47.4%);\n",
       "        }    #T_272b6ff4_42b2_11eb_b92e_b42e9984f954row5_col1 {\n",
       "            width:  10em;\n",
       "             height:  80%;\n",
       "            background:  linear-gradient(90deg,#df4523 42.1%, transparent 42.1%);\n",
       "        }    #T_272b6ff4_42b2_11eb_b92e_b42e9984f954row6_col1 {\n",
       "            width:  10em;\n",
       "             height:  80%;\n",
       "            background:  linear-gradient(90deg,#df4523 27.0%, transparent 27.0%);\n",
       "        }    #T_272b6ff4_42b2_11eb_b92e_b42e9984f954row7_col1 {\n",
       "            width:  10em;\n",
       "             height:  80%;\n",
       "            background:  linear-gradient(90deg,#df4523 27.0%, transparent 27.0%);\n",
       "        }    #T_272b6ff4_42b2_11eb_b92e_b42e9984f954row8_col1 {\n",
       "            width:  10em;\n",
       "             height:  80%;\n",
       "            background:  linear-gradient(90deg,#df4523 24.5%, transparent 24.5%);\n",
       "        }    #T_272b6ff4_42b2_11eb_b92e_b42e9984f954row9_col1 {\n",
       "            width:  10em;\n",
       "             height:  80%;\n",
       "            background:  linear-gradient(90deg,#df4523 22.5%, transparent 22.5%);\n",
       "        }    #T_272b6ff4_42b2_11eb_b92e_b42e9984f954row10_col1 {\n",
       "            width:  10em;\n",
       "             height:  80%;\n",
       "            background:  linear-gradient(90deg,#df4523 20.2%, transparent 20.2%);\n",
       "        }    #T_272b6ff4_42b2_11eb_b92e_b42e9984f954row11_col1 {\n",
       "            width:  10em;\n",
       "             height:  80%;\n",
       "            background:  linear-gradient(90deg,#df4523 17.2%, transparent 17.2%);\n",
       "        }    #T_272b6ff4_42b2_11eb_b92e_b42e9984f954row12_col1 {\n",
       "            width:  10em;\n",
       "             height:  80%;\n",
       "            background:  linear-gradient(90deg,#df4523 17.2%, transparent 17.2%);\n",
       "        }    #T_272b6ff4_42b2_11eb_b92e_b42e9984f954row13_col1 {\n",
       "            width:  10em;\n",
       "             height:  80%;\n",
       "            background:  linear-gradient(90deg,#df4523 17.2%, transparent 17.2%);\n",
       "        }    #T_272b6ff4_42b2_11eb_b92e_b42e9984f954row14_col1 {\n",
       "            width:  10em;\n",
       "             height:  80%;\n",
       "            background:  linear-gradient(90deg,#df4523 17.2%, transparent 17.2%);\n",
       "        }    #T_272b6ff4_42b2_11eb_b92e_b42e9984f954row15_col1 {\n",
       "            width:  10em;\n",
       "             height:  80%;\n",
       "            background:  linear-gradient(90deg,#df4523 17.1%, transparent 17.1%);\n",
       "        }    #T_272b6ff4_42b2_11eb_b92e_b42e9984f954row16_col1 {\n",
       "            width:  10em;\n",
       "             height:  80%;\n",
       "            background:  linear-gradient(90deg,#df4523 17.0%, transparent 17.0%);\n",
       "        }    #T_272b6ff4_42b2_11eb_b92e_b42e9984f954row17_col1 {\n",
       "            width:  10em;\n",
       "             height:  80%;\n",
       "            background:  linear-gradient(90deg,#df4523 16.9%, transparent 16.9%);\n",
       "        }    #T_272b6ff4_42b2_11eb_b92e_b42e9984f954row18_col1 {\n",
       "            width:  10em;\n",
       "             height:  80%;\n",
       "            background:  linear-gradient(90deg,#df4523 16.4%, transparent 16.4%);\n",
       "        }    #T_272b6ff4_42b2_11eb_b92e_b42e9984f954row19_col1 {\n",
       "            width:  10em;\n",
       "             height:  80%;\n",
       "            background:  linear-gradient(90deg,#df4523 16.4%, transparent 16.4%);\n",
       "        }    #T_272b6ff4_42b2_11eb_b92e_b42e9984f954row20_col1 {\n",
       "            width:  10em;\n",
       "             height:  80%;\n",
       "            background:  linear-gradient(90deg,#df4523 16.4%, transparent 16.4%);\n",
       "        }    #T_272b6ff4_42b2_11eb_b92e_b42e9984f954row21_col1 {\n",
       "            width:  10em;\n",
       "             height:  80%;\n",
       "            background:  linear-gradient(90deg,#df4523 14.9%, transparent 14.9%);\n",
       "        }    #T_272b6ff4_42b2_11eb_b92e_b42e9984f954row22_col1 {\n",
       "            width:  10em;\n",
       "             height:  80%;\n",
       "            background:  linear-gradient(90deg,#df4523 13.7%, transparent 13.7%);\n",
       "        }    #T_272b6ff4_42b2_11eb_b92e_b42e9984f954row23_col1 {\n",
       "            width:  10em;\n",
       "             height:  80%;\n",
       "            background:  linear-gradient(90deg,#df4523 13.7%, transparent 13.7%);\n",
       "        }    #T_272b6ff4_42b2_11eb_b92e_b42e9984f954row24_col1 {\n",
       "            width:  10em;\n",
       "             height:  80%;\n",
       "            background:  linear-gradient(90deg,#df4523 10.9%, transparent 10.9%);\n",
       "        }    #T_272b6ff4_42b2_11eb_b92e_b42e9984f954row25_col1 {\n",
       "            width:  10em;\n",
       "             height:  80%;\n",
       "            background:  linear-gradient(90deg,#df4523 8.4%, transparent 8.4%);\n",
       "        }    #T_272b6ff4_42b2_11eb_b92e_b42e9984f954row26_col1 {\n",
       "            width:  10em;\n",
       "             height:  80%;\n",
       "            background:  linear-gradient(90deg,#df4523 8.4%, transparent 8.4%);\n",
       "        }    #T_272b6ff4_42b2_11eb_b92e_b42e9984f954row27_col1 {\n",
       "            width:  10em;\n",
       "             height:  80%;\n",
       "            background:  linear-gradient(90deg,#df4523 8.4%, transparent 8.4%);\n",
       "        }    #T_272b6ff4_42b2_11eb_b92e_b42e9984f954row28_col1 {\n",
       "            width:  10em;\n",
       "             height:  80%;\n",
       "            background:  linear-gradient(90deg,#df4523 7.9%, transparent 7.9%);\n",
       "        }    #T_272b6ff4_42b2_11eb_b92e_b42e9984f954row29_col1 {\n",
       "            width:  10em;\n",
       "             height:  80%;\n",
       "            background:  linear-gradient(90deg,#df4523 4.6%, transparent 4.6%);\n",
       "        }    #T_272b6ff4_42b2_11eb_b92e_b42e9984f954row30_col1 {\n",
       "            width:  10em;\n",
       "             height:  80%;\n",
       "            background:  linear-gradient(90deg,#df4523 0.4%, transparent 0.4%);\n",
       "        }    #T_272b6ff4_42b2_11eb_b92e_b42e9984f954row31_col1 {\n",
       "            width:  10em;\n",
       "             height:  80%;\n",
       "            background:  linear-gradient(90deg,#df4523 0.2%, transparent 0.2%);\n",
       "        }    #T_272b6ff4_42b2_11eb_b92e_b42e9984f954row32_col1 {\n",
       "            width:  10em;\n",
       "             height:  80%;\n",
       "            background:  linear-gradient(90deg,#df4523 0.2%, transparent 0.2%);\n",
       "        }    #T_272b6ff4_42b2_11eb_b92e_b42e9984f954row33_col1 {\n",
       "            width:  10em;\n",
       "             height:  80%;\n",
       "            background:  linear-gradient(90deg,#df4523 0.2%, transparent 0.2%);\n",
       "        }</style><table id=\"T_272b6ff4_42b2_11eb_b92e_b42e9984f954\" ><thead>    <tr>        <th class=\"blank level0\" ></th>        <th class=\"col_heading level0 col0\" >column_name</th>        <th class=\"col_heading level0 col1\" >percent_missing</th>    </tr></thead><tbody>\n",
       "                <tr>\n",
       "                        <th id=\"T_272b6ff4_42b2_11eb_b92e_b42e9984f954level0_row0\" class=\"row_heading level0 row0\" >license</th>\n",
       "                        <td id=\"T_272b6ff4_42b2_11eb_b92e_b42e9984f954row0_col0\" class=\"data row0 col0\" >license</td>\n",
       "                        <td id=\"T_272b6ff4_42b2_11eb_b92e_b42e9984f954row0_col1\" class=\"data row0 col1\" >100</td>\n",
       "            </tr>\n",
       "            <tr>\n",
       "                        <th id=\"T_272b6ff4_42b2_11eb_b92e_b42e9984f954level0_row1\" class=\"row_heading level0 row1\" >square_feet</th>\n",
       "                        <td id=\"T_272b6ff4_42b2_11eb_b92e_b42e9984f954row1_col0\" class=\"data row1 col0\" >square_feet</td>\n",
       "                        <td id=\"T_272b6ff4_42b2_11eb_b92e_b42e9984f954row1_col1\" class=\"data row1 col1\" >97.46</td>\n",
       "            </tr>\n",
       "            <tr>\n",
       "                        <th id=\"T_272b6ff4_42b2_11eb_b92e_b42e9984f954level0_row2\" class=\"row_heading level0 row2\" >monthly_price</th>\n",
       "                        <td id=\"T_272b6ff4_42b2_11eb_b92e_b42e9984f954row2_col0\" class=\"data row2 col0\" >monthly_price</td>\n",
       "                        <td id=\"T_272b6ff4_42b2_11eb_b92e_b42e9984f954row2_col1\" class=\"data row2 col1\" >60.27</td>\n",
       "            </tr>\n",
       "            <tr>\n",
       "                        <th id=\"T_272b6ff4_42b2_11eb_b92e_b42e9984f954level0_row3\" class=\"row_heading level0 row3\" >security_deposit</th>\n",
       "                        <td id=\"T_272b6ff4_42b2_11eb_b92e_b42e9984f954row3_col0\" class=\"data row3 col0\" >security_deposit</td>\n",
       "                        <td id=\"T_272b6ff4_42b2_11eb_b92e_b42e9984f954row3_col1\" class=\"data row3 col1\" >51.13</td>\n",
       "            </tr>\n",
       "            <tr>\n",
       "                        <th id=\"T_272b6ff4_42b2_11eb_b92e_b42e9984f954level0_row4\" class=\"row_heading level0 row4\" >weekly_price</th>\n",
       "                        <td id=\"T_272b6ff4_42b2_11eb_b92e_b42e9984f954row4_col0\" class=\"data row4 col0\" >weekly_price</td>\n",
       "                        <td id=\"T_272b6ff4_42b2_11eb_b92e_b42e9984f954row4_col1\" class=\"data row4 col1\" >47.38</td>\n",
       "            </tr>\n",
       "            <tr>\n",
       "                        <th id=\"T_272b6ff4_42b2_11eb_b92e_b42e9984f954level0_row5\" class=\"row_heading level0 row5\" >notes</th>\n",
       "                        <td id=\"T_272b6ff4_42b2_11eb_b92e_b42e9984f954row5_col0\" class=\"data row5 col0\" >notes</td>\n",
       "                        <td id=\"T_272b6ff4_42b2_11eb_b92e_b42e9984f954row5_col1\" class=\"data row5 col1\" >42.06</td>\n",
       "            </tr>\n",
       "            <tr>\n",
       "                        <th id=\"T_272b6ff4_42b2_11eb_b92e_b42e9984f954level0_row6\" class=\"row_heading level0 row6\" >neighborhood_overview</th>\n",
       "                        <td id=\"T_272b6ff4_42b2_11eb_b92e_b42e9984f954row6_col0\" class=\"data row6 col0\" >neighborhood_overview</td>\n",
       "                        <td id=\"T_272b6ff4_42b2_11eb_b92e_b42e9984f954row6_col1\" class=\"data row6 col1\" >27.03</td>\n",
       "            </tr>\n",
       "            <tr>\n",
       "                        <th id=\"T_272b6ff4_42b2_11eb_b92e_b42e9984f954level0_row7\" class=\"row_heading level0 row7\" >cleaning_fee</th>\n",
       "                        <td id=\"T_272b6ff4_42b2_11eb_b92e_b42e9984f954row7_col0\" class=\"data row7 col0\" >cleaning_fee</td>\n",
       "                        <td id=\"T_272b6ff4_42b2_11eb_b92e_b42e9984f954row7_col1\" class=\"data row7 col1\" >26.98</td>\n",
       "            </tr>\n",
       "            <tr>\n",
       "                        <th id=\"T_272b6ff4_42b2_11eb_b92e_b42e9984f954level0_row8\" class=\"row_heading level0 row8\" >transit</th>\n",
       "                        <td id=\"T_272b6ff4_42b2_11eb_b92e_b42e9984f954row8_col0\" class=\"data row8 col0\" >transit</td>\n",
       "                        <td id=\"T_272b6ff4_42b2_11eb_b92e_b42e9984f954row8_col1\" class=\"data row8 col1\" >24.46</td>\n",
       "            </tr>\n",
       "            <tr>\n",
       "                        <th id=\"T_272b6ff4_42b2_11eb_b92e_b42e9984f954level0_row9\" class=\"row_heading level0 row9\" >host_about</th>\n",
       "                        <td id=\"T_272b6ff4_42b2_11eb_b92e_b42e9984f954row9_col0\" class=\"data row9 col0\" >host_about</td>\n",
       "                        <td id=\"T_272b6ff4_42b2_11eb_b92e_b42e9984f954row9_col1\" class=\"data row9 col1\" >22.5</td>\n",
       "            </tr>\n",
       "            <tr>\n",
       "                        <th id=\"T_272b6ff4_42b2_11eb_b92e_b42e9984f954level0_row10\" class=\"row_heading level0 row10\" >host_acceptance_rate</th>\n",
       "                        <td id=\"T_272b6ff4_42b2_11eb_b92e_b42e9984f954row10_col0\" class=\"data row10 col0\" >host_acceptance_rate</td>\n",
       "                        <td id=\"T_272b6ff4_42b2_11eb_b92e_b42e9984f954row10_col1\" class=\"data row10 col1\" >20.25</td>\n",
       "            </tr>\n",
       "            <tr>\n",
       "                        <th id=\"T_272b6ff4_42b2_11eb_b92e_b42e9984f954level0_row11\" class=\"row_heading level0 row11\" >review_scores_accuracy</th>\n",
       "                        <td id=\"T_272b6ff4_42b2_11eb_b92e_b42e9984f954row11_col0\" class=\"data row11 col0\" >review_scores_accuracy</td>\n",
       "                        <td id=\"T_272b6ff4_42b2_11eb_b92e_b42e9984f954row11_col1\" class=\"data row11 col1\" >17.23</td>\n",
       "            </tr>\n",
       "            <tr>\n",
       "                        <th id=\"T_272b6ff4_42b2_11eb_b92e_b42e9984f954level0_row12\" class=\"row_heading level0 row12\" >review_scores_checkin</th>\n",
       "                        <td id=\"T_272b6ff4_42b2_11eb_b92e_b42e9984f954row12_col0\" class=\"data row12 col0\" >review_scores_checkin</td>\n",
       "                        <td id=\"T_272b6ff4_42b2_11eb_b92e_b42e9984f954row12_col1\" class=\"data row12 col1\" >17.23</td>\n",
       "            </tr>\n",
       "            <tr>\n",
       "                        <th id=\"T_272b6ff4_42b2_11eb_b92e_b42e9984f954level0_row13\" class=\"row_heading level0 row13\" >review_scores_value</th>\n",
       "                        <td id=\"T_272b6ff4_42b2_11eb_b92e_b42e9984f954row13_col0\" class=\"data row13 col0\" >review_scores_value</td>\n",
       "                        <td id=\"T_272b6ff4_42b2_11eb_b92e_b42e9984f954row13_col1\" class=\"data row13 col1\" >17.18</td>\n",
       "            </tr>\n",
       "            <tr>\n",
       "                        <th id=\"T_272b6ff4_42b2_11eb_b92e_b42e9984f954level0_row14\" class=\"row_heading level0 row14\" >review_scores_location</th>\n",
       "                        <td id=\"T_272b6ff4_42b2_11eb_b92e_b42e9984f954row14_col0\" class=\"data row14 col0\" >review_scores_location</td>\n",
       "                        <td id=\"T_272b6ff4_42b2_11eb_b92e_b42e9984f954row14_col1\" class=\"data row14 col1\" >17.16</td>\n",
       "            </tr>\n",
       "            <tr>\n",
       "                        <th id=\"T_272b6ff4_42b2_11eb_b92e_b42e9984f954level0_row15\" class=\"row_heading level0 row15\" >review_scores_cleanliness</th>\n",
       "                        <td id=\"T_272b6ff4_42b2_11eb_b92e_b42e9984f954row15_col0\" class=\"data row15 col0\" >review_scores_cleanliness</td>\n",
       "                        <td id=\"T_272b6ff4_42b2_11eb_b92e_b42e9984f954row15_col1\" class=\"data row15 col1\" >17.1</td>\n",
       "            </tr>\n",
       "            <tr>\n",
       "                        <th id=\"T_272b6ff4_42b2_11eb_b92e_b42e9984f954level0_row16\" class=\"row_heading level0 row16\" >review_scores_communication</th>\n",
       "                        <td id=\"T_272b6ff4_42b2_11eb_b92e_b42e9984f954row16_col0\" class=\"data row16 col0\" >review_scores_communication</td>\n",
       "                        <td id=\"T_272b6ff4_42b2_11eb_b92e_b42e9984f954row16_col1\" class=\"data row16 col1\" >17.05</td>\n",
       "            </tr>\n",
       "            <tr>\n",
       "                        <th id=\"T_272b6ff4_42b2_11eb_b92e_b42e9984f954level0_row17\" class=\"row_heading level0 row17\" >review_scores_rating</th>\n",
       "                        <td id=\"T_272b6ff4_42b2_11eb_b92e_b42e9984f954row17_col0\" class=\"data row17 col0\" >review_scores_rating</td>\n",
       "                        <td id=\"T_272b6ff4_42b2_11eb_b92e_b42e9984f954row17_col1\" class=\"data row17 col1\" >16.95</td>\n",
       "            </tr>\n",
       "            <tr>\n",
       "                        <th id=\"T_272b6ff4_42b2_11eb_b92e_b42e9984f954level0_row18\" class=\"row_heading level0 row18\" >reviews_per_month</th>\n",
       "                        <td id=\"T_272b6ff4_42b2_11eb_b92e_b42e9984f954row18_col0\" class=\"data row18 col0\" >reviews_per_month</td>\n",
       "                        <td id=\"T_272b6ff4_42b2_11eb_b92e_b42e9984f954row18_col1\" class=\"data row18 col1\" >16.42</td>\n",
       "            </tr>\n",
       "            <tr>\n",
       "                        <th id=\"T_272b6ff4_42b2_11eb_b92e_b42e9984f954level0_row19\" class=\"row_heading level0 row19\" >last_review</th>\n",
       "                        <td id=\"T_272b6ff4_42b2_11eb_b92e_b42e9984f954row19_col0\" class=\"data row19 col0\" >last_review</td>\n",
       "                        <td id=\"T_272b6ff4_42b2_11eb_b92e_b42e9984f954row19_col1\" class=\"data row19 col1\" >16.42</td>\n",
       "            </tr>\n",
       "            <tr>\n",
       "                        <th id=\"T_272b6ff4_42b2_11eb_b92e_b42e9984f954level0_row20\" class=\"row_heading level0 row20\" >first_review</th>\n",
       "                        <td id=\"T_272b6ff4_42b2_11eb_b92e_b42e9984f954row20_col0\" class=\"data row20 col0\" >first_review</td>\n",
       "                        <td id=\"T_272b6ff4_42b2_11eb_b92e_b42e9984f954row20_col1\" class=\"data row20 col1\" >16.42</td>\n",
       "            </tr>\n",
       "            <tr>\n",
       "                        <th id=\"T_272b6ff4_42b2_11eb_b92e_b42e9984f954level0_row21\" class=\"row_heading level0 row21\" >space</th>\n",
       "                        <td id=\"T_272b6ff4_42b2_11eb_b92e_b42e9984f954row21_col0\" class=\"data row21 col0\" >space</td>\n",
       "                        <td id=\"T_272b6ff4_42b2_11eb_b92e_b42e9984f954row21_col1\" class=\"data row21 col1\" >14.9</td>\n",
       "            </tr>\n",
       "            <tr>\n",
       "                        <th id=\"T_272b6ff4_42b2_11eb_b92e_b42e9984f954level0_row22\" class=\"row_heading level0 row22\" >host_response_time</th>\n",
       "                        <td id=\"T_272b6ff4_42b2_11eb_b92e_b42e9984f954row22_col0\" class=\"data row22 col0\" >host_response_time</td>\n",
       "                        <td id=\"T_272b6ff4_42b2_11eb_b92e_b42e9984f954row22_col1\" class=\"data row22 col1\" >13.7</td>\n",
       "            </tr>\n",
       "            <tr>\n",
       "                        <th id=\"T_272b6ff4_42b2_11eb_b92e_b42e9984f954level0_row23\" class=\"row_heading level0 row23\" >host_response_rate</th>\n",
       "                        <td id=\"T_272b6ff4_42b2_11eb_b92e_b42e9984f954row23_col0\" class=\"data row23 col0\" >host_response_rate</td>\n",
       "                        <td id=\"T_272b6ff4_42b2_11eb_b92e_b42e9984f954row23_col1\" class=\"data row23 col1\" >13.7</td>\n",
       "            </tr>\n",
       "            <tr>\n",
       "                        <th id=\"T_272b6ff4_42b2_11eb_b92e_b42e9984f954level0_row24\" class=\"row_heading level0 row24\" >neighbourhood</th>\n",
       "                        <td id=\"T_272b6ff4_42b2_11eb_b92e_b42e9984f954row24_col0\" class=\"data row24 col0\" >neighbourhood</td>\n",
       "                        <td id=\"T_272b6ff4_42b2_11eb_b92e_b42e9984f954row24_col1\" class=\"data row24 col1\" >10.9</td>\n",
       "            </tr>\n",
       "            <tr>\n",
       "                        <th id=\"T_272b6ff4_42b2_11eb_b92e_b42e9984f954level0_row25\" class=\"row_heading level0 row25\" >xl_picture_url</th>\n",
       "                        <td id=\"T_272b6ff4_42b2_11eb_b92e_b42e9984f954row25_col0\" class=\"data row25 col0\" >xl_picture_url</td>\n",
       "                        <td id=\"T_272b6ff4_42b2_11eb_b92e_b42e9984f954row25_col1\" class=\"data row25 col1\" >8.38</td>\n",
       "            </tr>\n",
       "            <tr>\n",
       "                        <th id=\"T_272b6ff4_42b2_11eb_b92e_b42e9984f954level0_row26\" class=\"row_heading level0 row26\" >medium_url</th>\n",
       "                        <td id=\"T_272b6ff4_42b2_11eb_b92e_b42e9984f954row26_col0\" class=\"data row26 col0\" >medium_url</td>\n",
       "                        <td id=\"T_272b6ff4_42b2_11eb_b92e_b42e9984f954row26_col1\" class=\"data row26 col1\" >8.38</td>\n",
       "            </tr>\n",
       "            <tr>\n",
       "                        <th id=\"T_272b6ff4_42b2_11eb_b92e_b42e9984f954level0_row27\" class=\"row_heading level0 row27\" >thumbnail_url</th>\n",
       "                        <td id=\"T_272b6ff4_42b2_11eb_b92e_b42e9984f954row27_col0\" class=\"data row27 col0\" >thumbnail_url</td>\n",
       "                        <td id=\"T_272b6ff4_42b2_11eb_b92e_b42e9984f954row27_col1\" class=\"data row27 col1\" >8.38</td>\n",
       "            </tr>\n",
       "            <tr>\n",
       "                        <th id=\"T_272b6ff4_42b2_11eb_b92e_b42e9984f954level0_row28\" class=\"row_heading level0 row28\" >host_neighbourhood</th>\n",
       "                        <td id=\"T_272b6ff4_42b2_11eb_b92e_b42e9984f954row28_col0\" class=\"data row28 col0\" >host_neighbourhood</td>\n",
       "                        <td id=\"T_272b6ff4_42b2_11eb_b92e_b42e9984f954row28_col1\" class=\"data row28 col1\" >7.86</td>\n",
       "            </tr>\n",
       "            <tr>\n",
       "                        <th id=\"T_272b6ff4_42b2_11eb_b92e_b42e9984f954level0_row29\" class=\"row_heading level0 row29\" >summary</th>\n",
       "                        <td id=\"T_272b6ff4_42b2_11eb_b92e_b42e9984f954row29_col0\" class=\"data row29 col0\" >summary</td>\n",
       "                        <td id=\"T_272b6ff4_42b2_11eb_b92e_b42e9984f954row29_col1\" class=\"data row29 col1\" >4.64</td>\n",
       "            </tr>\n",
       "            <tr>\n",
       "                        <th id=\"T_272b6ff4_42b2_11eb_b92e_b42e9984f954level0_row30\" class=\"row_heading level0 row30\" >bathrooms</th>\n",
       "                        <td id=\"T_272b6ff4_42b2_11eb_b92e_b42e9984f954row30_col0\" class=\"data row30 col0\" >bathrooms</td>\n",
       "                        <td id=\"T_272b6ff4_42b2_11eb_b92e_b42e9984f954row30_col1\" class=\"data row30 col1\" >0.42</td>\n",
       "            </tr>\n",
       "            <tr>\n",
       "                        <th id=\"T_272b6ff4_42b2_11eb_b92e_b42e9984f954level0_row31\" class=\"row_heading level0 row31\" >host_location</th>\n",
       "                        <td id=\"T_272b6ff4_42b2_11eb_b92e_b42e9984f954row31_col0\" class=\"data row31 col0\" >host_location</td>\n",
       "                        <td id=\"T_272b6ff4_42b2_11eb_b92e_b42e9984f954row31_col1\" class=\"data row31 col1\" >0.21</td>\n",
       "            </tr>\n",
       "            <tr>\n",
       "                        <th id=\"T_272b6ff4_42b2_11eb_b92e_b42e9984f954level0_row32\" class=\"row_heading level0 row32\" >zipcode</th>\n",
       "                        <td id=\"T_272b6ff4_42b2_11eb_b92e_b42e9984f954row32_col0\" class=\"data row32 col0\" >zipcode</td>\n",
       "                        <td id=\"T_272b6ff4_42b2_11eb_b92e_b42e9984f954row32_col1\" class=\"data row32 col1\" >0.18</td>\n",
       "            </tr>\n",
       "            <tr>\n",
       "                        <th id=\"T_272b6ff4_42b2_11eb_b92e_b42e9984f954level0_row33\" class=\"row_heading level0 row33\" >bedrooms</th>\n",
       "                        <td id=\"T_272b6ff4_42b2_11eb_b92e_b42e9984f954row33_col0\" class=\"data row33 col0\" >bedrooms</td>\n",
       "                        <td id=\"T_272b6ff4_42b2_11eb_b92e_b42e9984f954row33_col1\" class=\"data row33 col1\" >0.16</td>\n",
       "            </tr>\n",
       "    </tbody></table>"
      ],
      "text/plain": [
       "<pandas.io.formats.style.Styler at 0x1aacb203f88>"
      ]
     },
     "execution_count": 15,
     "metadata": {},
     "output_type": "execute_result"
    }
   ],
   "source": [
    "give_missing_values(df_listings, visualize=True, viz_thresh=0.05)"
   ]
  },
  {
   "cell_type": "markdown",
   "metadata": {},
   "source": [
    "### Drop columns for several reasons"
   ]
  },
  {
   "cell_type": "markdown",
   "metadata": {},
   "source": [
    "* Drop text that can not be used in a model without transforming into numeric data\n",
    "* Drop IDs, URLs, as they don't provide any valuable information\n",
    "* Info is sufficiently available in a different column or no relevant information gain\n",
    "* Drop columns when they have too many null values (>80%)"
   ]
  },
  {
   "cell_type": "code",
   "execution_count": 16,
   "metadata": {},
   "outputs": [],
   "source": [
    "def drop_columns(df, column_list, print_info=False): \n",
    "\n",
    "    ''' \n",
    "    INPUT  \n",
    "        df - a dataframe\n",
    "\n",
    "    OUTPUT \n",
    "\n",
    "        missing_values_df - a dataframe with the percentage of missing values for each column in the given dataframe\n",
    "        column_list - the columns of the given dataframe that should be dropped  \n",
    "        print_info - a flag determining if some additional info should be printed\n",
    "    ''' \n",
    "    \n",
    "    df_dropped = df.copy()\n",
    "    \n",
    "    try:\n",
    "        df_dropped = df_dropped.drop(columns=column_list)\n",
    "    except:\n",
    "        print('Something went wrong. Returning original Dataframe.')\n",
    "        return df\n",
    "   \n",
    "    if print_info:\n",
    "        print(\"Original dataframe: \" + str(df.shape[0]) + \" rows, \" + str(df.shape[1]) + \" columns.\\n\")\n",
    "        print(\"Dropped the following columns:\")\n",
    "        for col in column_list:\n",
    "            print(\"- \" + col)\n",
    "        print(\"\\nNew dataframe: \" + str(df_dropped.shape[0]) + \" rows, \" + str(df_dropped.shape[1]) + \" columns.\")\n",
    "        \n",
    "    return df_dropped"
   ]
  },
  {
   "cell_type": "code",
   "execution_count": 17,
   "metadata": {},
   "outputs": [
    {
     "name": "stdout",
     "output_type": "stream",
     "text": [
      "Original dataframe: 3818 rows, 102 columns.\n",
      "\n",
      "Dropped the following columns:\n",
      "- id\n",
      "- name\n",
      "- summary\n",
      "- space\n",
      "- description\n",
      "- notes\n",
      "- transit\n",
      "- host_name\n",
      "- host_about\n",
      "- scrape_id\n",
      "- listing_url\n",
      "- thumbnail_url\n",
      "- medium_url\n",
      "- picture_url\n",
      "- xl_picture_url\n",
      "- host_id\n",
      "- host_url\n",
      "- host_thumbnail_url\n",
      "- host_picture_url\n",
      "- street\n",
      "- neighborhood_overview\n",
      "- city\n",
      "- state\n",
      "- zipcode\n",
      "- smart_location\n",
      "- latitude\n",
      "- longitude\n",
      "- is_location_exact\n",
      "- last_scraped\n",
      "- host_location\n",
      "- security_deposit\n",
      "- first_review\n",
      "- last_review\n",
      "- host_listings_count\n",
      "- reviews_per_month\n",
      "- weekly_price\n",
      "- monthly_price\n",
      "- availability_30\n",
      "- availability_60\n",
      "- availability_90\n",
      "- host_has_profile_pic\n",
      "- license\n",
      "- square_feet\n",
      "- host_verifications\n",
      "- host_response_time\n",
      "- host_response_rate\n",
      "- host_acceptance_rate\n",
      "- host_neighbourhood\n",
      "- calendar_updated\n",
      "- calculated_host_listings_count\n",
      "- cleaning_fee\n",
      "- amenities\n",
      "\n",
      "New dataframe: 3818 rows, 50 columns.\n"
     ]
    }
   ],
   "source": [
    "columns_to_drop_text = ['id', 'name', 'summary', 'space', 'description', 'notes', 'transit', 'host_name', 'host_about']\n",
    "columns_to_drop_ids = ['scrape_id',  'listing_url',  'thumbnail_url', 'medium_url', 'picture_url', 'xl_picture_url', 'host_id', 'host_url', 'host_thumbnail_url', 'host_picture_url']\n",
    "columns_to_drop_no_information_gain = ['street', 'neighborhood_overview', 'city', 'state', 'zipcode', 'smart_location', 'latitude', 'longitude', \n",
    "                                       'is_location_exact', 'last_scraped', 'host_location', 'security_deposit', 'first_review', 'last_review'\n",
    "                                       , 'host_listings_count', 'reviews_per_month', 'weekly_price', 'monthly_price',\n",
    "                                      'availability_30', 'availability_60', 'availability_90', 'host_has_profile_pic']\n",
    "columns_to_drop_nulls = ['license', 'square_feet']\n",
    "columns_too_much_effort = ['host_verifications', 'host_response_time', 'host_response_rate', 'host_acceptance_rate', 'host_neighbourhood', 'calendar_updated', 'calculated_host_listings_count', 'cleaning_fee', 'amenities']\n",
    "\n",
    "columns_to_drop_all = columns_to_drop_text + columns_to_drop_ids + columns_to_drop_no_information_gain + columns_to_drop_nulls + columns_too_much_effort\n",
    "\n",
    "df_listings_clean = df_listings.copy()\n",
    "\n",
    "df_listings_clean = drop_columns(df_listings_clean, columns_to_drop_all, print_info=True)"
   ]
  },
  {
   "cell_type": "markdown",
   "metadata": {},
   "source": [
    "### Detect if column has only the same value."
   ]
  },
  {
   "cell_type": "code",
   "execution_count": 18,
   "metadata": {},
   "outputs": [],
   "source": [
    "def detect_and_drop_cols_with_same_values(df): \n",
    "\n",
    "    ''' \n",
    "    INPUT  \n",
    "        df - a dataframe that needs to be cleaned\n",
    "\n",
    "    OUTPUT \n",
    "\n",
    "        df_clean - the original dataframe minus the columsn dropped because they contain only one distinct value\n",
    "    ''' \n",
    "    \n",
    "    df_clean = df.copy()\n",
    "    \n",
    "    count = 0\n",
    "    \n",
    "    cols = df.columns\n",
    "    \n",
    "    for col in cols:\n",
    "        \n",
    "        first_value = df_clean[col][0]\n",
    "        res = (df_clean[col] == first_value).mean()\n",
    "        if(res == 1):\n",
    "            df_clean = df_clean.drop(columns=[col])\n",
    "            print(\"Column \" + col + \" has value: \" + str(first_value) + \", in \" + \n",
    "                  str(res*100) + \"% of columns and has therefore been dropped.\")\n",
    "            count = count + 1\n",
    "            \n",
    "    print(\"\\nOverall, \" + str(count) + \" columns have been dropped.\\nThe dataframe has now \" + str(df_clean.shape[1]) + \" columns left.\")\n",
    "    \n",
    "        \n",
    "    return df_clean"
   ]
  },
  {
   "cell_type": "code",
   "execution_count": 19,
   "metadata": {},
   "outputs": [
    {
     "name": "stdout",
     "output_type": "stream",
     "text": [
      "Column experiences_offered has value: none, in 100.0% of columns and has therefore been dropped.\n",
      "Column market has value: Seattle, in 100.0% of columns and has therefore been dropped.\n",
      "Column country_code has value: US, in 100.0% of columns and has therefore been dropped.\n",
      "Column country has value: United States, in 100.0% of columns and has therefore been dropped.\n",
      "Column has_availability has value: t, in 100.0% of columns and has therefore been dropped.\n",
      "Column calendar_last_scraped has value: 2016-01-04, in 100.0% of columns and has therefore been dropped.\n",
      "Column requires_license has value: f, in 100.0% of columns and has therefore been dropped.\n",
      "Column jurisdiction_names has value: WASHINGTON, in 100.0% of columns and has therefore been dropped.\n",
      "Column picture_available has value: True, in 100.0% of columns and has therefore been dropped.\n",
      "\n",
      "Overall, 9 columns have been dropped.\n",
      "The dataframe has now 41 columns left.\n"
     ]
    }
   ],
   "source": [
    "df_listings_clean = detect_and_drop_cols_with_same_values(df_listings_clean)"
   ]
  },
  {
   "cell_type": "markdown",
   "metadata": {},
   "source": [
    "### Correct Data Formats"
   ]
  },
  {
   "cell_type": "markdown",
   "metadata": {},
   "source": [
    "Strings are used here. We need to convert them into floating numbers."
   ]
  },
  {
   "cell_type": "code",
   "execution_count": 20,
   "metadata": {},
   "outputs": [],
   "source": [
    "def cut_dollars(text):\n",
    "    text = text[1:]\n",
    "    return text\n",
    "\n",
    "\n",
    "def clean_dollar_values(df, column_list): \n",
    "\n",
    "    ''' \n",
    "    INPUT  \n",
    "        df - a dataframe that requires dollar strings to be transformed into float values\n",
    "        column_list - the columns of the dataframe containing dollar strings         \n",
    "\n",
    "    OUTPUT \n",
    "        cleaned_df - a dataframe with specified columns transformed\n",
    "\n",
    "    ''' \n",
    "    \n",
    "    df_cleaned = df.copy()\n",
    "\n",
    "    for col in column_list:\n",
    "        for i in df['price'].index:\n",
    "            # check if entry is null\n",
    "            if df[col][i] == df[col][i]:\n",
    "                df_cleaned[col][i] = cut_dollars(df_cleaned[col][i])   \n",
    "                \n",
    "        df_cleaned[col] = df_cleaned[col].str.replace(',', '')\n",
    "        df_cleaned[col] = pd.to_numeric(df_cleaned[col])\n",
    "            \n",
    "    \n",
    "    return df_cleaned "
   ]
  },
  {
   "cell_type": "code",
   "execution_count": 21,
   "metadata": {},
   "outputs": [
    {
     "name": "stderr",
     "output_type": "stream",
     "text": [
      "C:\\Users\\carst\\Anaconda3\\lib\\site-packages\\ipykernel_launcher.py:24: SettingWithCopyWarning: \n",
      "A value is trying to be set on a copy of a slice from a DataFrame\n",
      "\n",
      "See the caveats in the documentation: http://pandas.pydata.org/pandas-docs/stable/user_guide/indexing.html#returning-a-view-versus-a-copy\n"
     ]
    }
   ],
   "source": [
    "price_string_column_list = ['price', 'extra_people']\n",
    "df_listings_clean = clean_dollar_values(df_listings_clean, price_string_column_list)"
   ]
  },
  {
   "cell_type": "code",
   "execution_count": 22,
   "metadata": {
    "scrolled": true
   },
   "outputs": [
    {
     "data": {
      "text/html": [
       "<div>\n",
       "<style scoped>\n",
       "    .dataframe tbody tr th:only-of-type {\n",
       "        vertical-align: middle;\n",
       "    }\n",
       "\n",
       "    .dataframe tbody tr th {\n",
       "        vertical-align: top;\n",
       "    }\n",
       "\n",
       "    .dataframe thead th {\n",
       "        text-align: right;\n",
       "    }\n",
       "</style>\n",
       "<table border=\"1\" class=\"dataframe\">\n",
       "  <thead>\n",
       "    <tr style=\"text-align: right;\">\n",
       "      <th></th>\n",
       "      <th>price</th>\n",
       "      <th>extra_people</th>\n",
       "    </tr>\n",
       "  </thead>\n",
       "  <tbody>\n",
       "    <tr>\n",
       "      <td>2429</td>\n",
       "      <td>37.0</td>\n",
       "      <td>300.0</td>\n",
       "    </tr>\n",
       "    <tr>\n",
       "      <td>3102</td>\n",
       "      <td>93.0</td>\n",
       "      <td>300.0</td>\n",
       "    </tr>\n",
       "    <tr>\n",
       "      <td>1773</td>\n",
       "      <td>250.0</td>\n",
       "      <td>250.0</td>\n",
       "    </tr>\n",
       "    <tr>\n",
       "      <td>1701</td>\n",
       "      <td>350.0</td>\n",
       "      <td>200.0</td>\n",
       "    </tr>\n",
       "    <tr>\n",
       "      <td>1361</td>\n",
       "      <td>270.0</td>\n",
       "      <td>200.0</td>\n",
       "    </tr>\n",
       "    <tr>\n",
       "      <td>...</td>\n",
       "      <td>...</td>\n",
       "      <td>...</td>\n",
       "    </tr>\n",
       "    <tr>\n",
       "      <td>1163</td>\n",
       "      <td>200.0</td>\n",
       "      <td>0.0</td>\n",
       "    </tr>\n",
       "    <tr>\n",
       "      <td>2435</td>\n",
       "      <td>95.0</td>\n",
       "      <td>0.0</td>\n",
       "    </tr>\n",
       "    <tr>\n",
       "      <td>2434</td>\n",
       "      <td>72.0</td>\n",
       "      <td>0.0</td>\n",
       "    </tr>\n",
       "    <tr>\n",
       "      <td>1167</td>\n",
       "      <td>70.0</td>\n",
       "      <td>0.0</td>\n",
       "    </tr>\n",
       "    <tr>\n",
       "      <td>3817</td>\n",
       "      <td>87.0</td>\n",
       "      <td>0.0</td>\n",
       "    </tr>\n",
       "  </tbody>\n",
       "</table>\n",
       "<p>3818 rows × 2 columns</p>\n",
       "</div>"
      ],
      "text/plain": [
       "      price  extra_people\n",
       "2429   37.0         300.0\n",
       "3102   93.0         300.0\n",
       "1773  250.0         250.0\n",
       "1701  350.0         200.0\n",
       "1361  270.0         200.0\n",
       "...     ...           ...\n",
       "1163  200.0           0.0\n",
       "2435   95.0           0.0\n",
       "2434   72.0           0.0\n",
       "1167   70.0           0.0\n",
       "3817   87.0           0.0\n",
       "\n",
       "[3818 rows x 2 columns]"
      ]
     },
     "execution_count": 22,
     "metadata": {},
     "output_type": "execute_result"
    }
   ],
   "source": [
    "df_listings_clean[price_string_column_list].sort_values(by=['extra_people'], ascending=False)"
   ]
  },
  {
   "cell_type": "markdown",
   "metadata": {},
   "source": [
    "### Transform t and f into correct True/False values."
   ]
  },
  {
   "cell_type": "code",
   "execution_count": 23,
   "metadata": {},
   "outputs": [],
   "source": [
    "def clean_true_false(df): \n",
    "\n",
    "    ''' \n",
    "    INPUT  \n",
    "        df - a dataframe that needs to be cleaned\n",
    "\n",
    "    OUTPUT \n",
    "\n",
    "        df_clean - the original dataframe with columns with t/f values transformed into true and false\n",
    "    ''' \n",
    "    \n",
    "    df_clean = df.copy()\n",
    "    \n",
    "    count = 0\n",
    "    \n",
    "    cols = df.columns\n",
    "    \n",
    "    for col in cols:\n",
    "        \n",
    "        distinct_col_vals = df_clean[col].value_counts()\n",
    "        tf = ('f', 't')\n",
    "        col_new = col + \"_new\"\n",
    "        \n",
    "        if len(distinct_col_vals) == 2 and (distinct_col_vals.index[0] in tf) and (distinct_col_vals.index[1] in tf):\n",
    "            count = count + 1\n",
    "            new_values = []\n",
    "            for i in df_clean[col].index:\n",
    "                if(df_clean[col][i] == 't'):\n",
    "                    new_values.append(True)\n",
    "                elif(df_clean[col][i] == 'f'):\n",
    "                    new_values.append(False)\n",
    "                    \n",
    "            d = {col: new_values}\n",
    "            df_temp = pd.DataFrame(data=d)\n",
    "            df_clean[col] = df_temp[col]\n",
    "            print(\"Cleaned column: \" + col)\n",
    "\n",
    "    print(\"\\nOverall, \" + str(count) + \" columns have been adjusted.\")\n",
    "    \n",
    "    return df_clean"
   ]
  },
  {
   "cell_type": "code",
   "execution_count": 24,
   "metadata": {},
   "outputs": [
    {
     "name": "stdout",
     "output_type": "stream",
     "text": [
      "Cleaned column: host_is_superhost\n",
      "Cleaned column: host_identity_verified\n",
      "Cleaned column: instant_bookable\n",
      "Cleaned column: require_guest_profile_picture\n",
      "Cleaned column: require_guest_phone_verification\n",
      "\n",
      "Overall, 5 columns have been adjusted.\n"
     ]
    }
   ],
   "source": [
    "df_listings_clean = clean_true_false(df_listings_clean)"
   ]
  },
  {
   "cell_type": "markdown",
   "metadata": {},
   "source": [
    "Let's have a look at the \"neighbourhood\" columns in comparison."
   ]
  },
  {
   "cell_type": "code",
   "execution_count": 25,
   "metadata": {
    "scrolled": true
   },
   "outputs": [
    {
     "data": {
      "text/html": [
       "<div>\n",
       "<style scoped>\n",
       "    .dataframe tbody tr th:only-of-type {\n",
       "        vertical-align: middle;\n",
       "    }\n",
       "\n",
       "    .dataframe tbody tr th {\n",
       "        vertical-align: top;\n",
       "    }\n",
       "\n",
       "    .dataframe thead th {\n",
       "        text-align: right;\n",
       "    }\n",
       "</style>\n",
       "<table border=\"1\" class=\"dataframe\">\n",
       "  <thead>\n",
       "    <tr style=\"text-align: right;\">\n",
       "      <th></th>\n",
       "      <th>neighbourhood</th>\n",
       "      <th>neighbourhood_cleansed</th>\n",
       "      <th>neighbourhood_group_cleansed</th>\n",
       "    </tr>\n",
       "  </thead>\n",
       "  <tbody>\n",
       "    <tr>\n",
       "      <td>10</td>\n",
       "      <td>Queen Anne</td>\n",
       "      <td>West Queen Anne</td>\n",
       "      <td>Queen Anne</td>\n",
       "    </tr>\n",
       "    <tr>\n",
       "      <td>11</td>\n",
       "      <td>Queen Anne</td>\n",
       "      <td>West Queen Anne</td>\n",
       "      <td>Queen Anne</td>\n",
       "    </tr>\n",
       "    <tr>\n",
       "      <td>12</td>\n",
       "      <td>NaN</td>\n",
       "      <td>West Queen Anne</td>\n",
       "      <td>Queen Anne</td>\n",
       "    </tr>\n",
       "    <tr>\n",
       "      <td>13</td>\n",
       "      <td>Queen Anne</td>\n",
       "      <td>West Queen Anne</td>\n",
       "      <td>Queen Anne</td>\n",
       "    </tr>\n",
       "    <tr>\n",
       "      <td>14</td>\n",
       "      <td>Queen Anne</td>\n",
       "      <td>West Queen Anne</td>\n",
       "      <td>Queen Anne</td>\n",
       "    </tr>\n",
       "    <tr>\n",
       "      <td>15</td>\n",
       "      <td>NaN</td>\n",
       "      <td>West Queen Anne</td>\n",
       "      <td>Queen Anne</td>\n",
       "    </tr>\n",
       "    <tr>\n",
       "      <td>16</td>\n",
       "      <td>Queen Anne</td>\n",
       "      <td>West Queen Anne</td>\n",
       "      <td>Queen Anne</td>\n",
       "    </tr>\n",
       "    <tr>\n",
       "      <td>17</td>\n",
       "      <td>Queen Anne</td>\n",
       "      <td>West Queen Anne</td>\n",
       "      <td>Queen Anne</td>\n",
       "    </tr>\n",
       "    <tr>\n",
       "      <td>18</td>\n",
       "      <td>Queen Anne</td>\n",
       "      <td>West Queen Anne</td>\n",
       "      <td>Queen Anne</td>\n",
       "    </tr>\n",
       "    <tr>\n",
       "      <td>19</td>\n",
       "      <td>Queen Anne</td>\n",
       "      <td>West Queen Anne</td>\n",
       "      <td>Queen Anne</td>\n",
       "    </tr>\n",
       "  </tbody>\n",
       "</table>\n",
       "</div>"
      ],
      "text/plain": [
       "   neighbourhood neighbourhood_cleansed neighbourhood_group_cleansed\n",
       "10    Queen Anne        West Queen Anne                   Queen Anne\n",
       "11    Queen Anne        West Queen Anne                   Queen Anne\n",
       "12           NaN        West Queen Anne                   Queen Anne\n",
       "13    Queen Anne        West Queen Anne                   Queen Anne\n",
       "14    Queen Anne        West Queen Anne                   Queen Anne\n",
       "15           NaN        West Queen Anne                   Queen Anne\n",
       "16    Queen Anne        West Queen Anne                   Queen Anne\n",
       "17    Queen Anne        West Queen Anne                   Queen Anne\n",
       "18    Queen Anne        West Queen Anne                   Queen Anne\n",
       "19    Queen Anne        West Queen Anne                   Queen Anne"
      ]
     },
     "execution_count": 25,
     "metadata": {},
     "output_type": "execute_result"
    }
   ],
   "source": [
    "df_listings_clean[['neighbourhood', 'neighbourhood_cleansed', 'neighbourhood_group_cleansed']].iloc[10:20,:]"
   ]
  },
  {
   "cell_type": "code",
   "execution_count": 26,
   "metadata": {},
   "outputs": [
    {
     "data": {
      "text/plain": [
       "Broadway             397\n",
       "Belltown             234\n",
       "Wallingford          167\n",
       "Fremont              158\n",
       "Minor                135\n",
       "                    ... \n",
       "Arbor Heights          5\n",
       "South Beacon Hill      4\n",
       "Pinehurst              4\n",
       "South Park             3\n",
       "Roxhill                2\n",
       "Name: neighbourhood_cleansed, Length: 87, dtype: int64"
      ]
     },
     "execution_count": 26,
     "metadata": {},
     "output_type": "execute_result"
    }
   ],
   "source": [
    "df_listings_clean['neighbourhood_cleansed'].value_counts()"
   ]
  },
  {
   "cell_type": "markdown",
   "metadata": {},
   "source": [
    "We can safely drop the \"neighbourhood\" column, as \"neighbourhood_cleansed\" and \"neighbourhood_group_cleansed\" together hold even more information. I also decided to dro \"neighbourhood_cleansed\", as we don't need so many small groups."
   ]
  },
  {
   "cell_type": "code",
   "execution_count": 27,
   "metadata": {
    "scrolled": false
   },
   "outputs": [
    {
     "name": "stdout",
     "output_type": "stream",
     "text": [
      "Original dataframe: 3818 rows, 41 columns.\n",
      "\n",
      "Dropped the following columns:\n",
      "- neighbourhood\n",
      "\n",
      "New dataframe: 3818 rows, 40 columns.\n"
     ]
    }
   ],
   "source": [
    "df_listings_clean = drop_columns(df_listings_clean, ['neighbourhood'], print_info=True)"
   ]
  },
  {
   "cell_type": "markdown",
   "metadata": {},
   "source": [
    "### Handle time columns accordingly"
   ]
  },
  {
   "cell_type": "markdown",
   "metadata": {},
   "source": [
    "I will measure the time difference to the mid of 2016 to get how long a host has been active with his account."
   ]
  },
  {
   "cell_type": "code",
   "execution_count": 28,
   "metadata": {},
   "outputs": [],
   "source": [
    "from datetime import datetime\n",
    "\n",
    "def days_between(d1, d2):\n",
    "    d1 = datetime.strptime(d1, \"%Y-%m-%d\")\n",
    "    d2 = datetime.strptime(d2, \"%Y-%m-%d\")\n",
    "    return abs((d2 - d1).days)"
   ]
  },
  {
   "cell_type": "code",
   "execution_count": 29,
   "metadata": {},
   "outputs": [
    {
     "name": "stdout",
     "output_type": "stream",
     "text": [
      "Column host_since_in_days has been added to the dataframe.\n",
      "Original dataframe: 3818 rows, 41 columns.\n",
      "\n",
      "Dropped the following columns:\n",
      "- host_since\n",
      "\n",
      "New dataframe: 3818 rows, 40 columns.\n",
      "The following rows failed:\n",
      "[1297, 1419]\n"
     ]
    }
   ],
   "source": [
    "list = []\n",
    "fails = []\n",
    "col = 'host_since'\n",
    "new_col = 'host_since_in_days'\n",
    "\n",
    "for i in df_listings_clean[col].index:\n",
    "    try:\n",
    "        list.append(days_between(str(df_listings_clean[col][i]), '2016-06-15'))\n",
    "    except:\n",
    "        list.append(None)\n",
    "        fails.append(i)\n",
    "        next\n",
    "     \n",
    "df_listings_clean[new_col] = list\n",
    "\n",
    "print(\"Column \" + str(new_col) + \" has been added to the dataframe.\" )\n",
    "\n",
    "df_listings_clean = drop_columns(df_listings_clean, [col], print_info=True)\n",
    "\n",
    "print(\"The following rows failed:\")\n",
    "print(fails)"
   ]
  },
  {
   "cell_type": "code",
   "execution_count": 30,
   "metadata": {},
   "outputs": [
    {
     "data": {
      "text/html": [
       "<style  type=\"text/css\" >\n",
       "    #T_27f75434_42b2_11eb_825c_b42e9984f954row0_col1 {\n",
       "            width:  10em;\n",
       "             height:  80%;\n",
       "            background:  linear-gradient(90deg,#df4523 100.0%, transparent 100.0%);\n",
       "        }    #T_27f75434_42b2_11eb_825c_b42e9984f954row1_col1 {\n",
       "            width:  10em;\n",
       "             height:  80%;\n",
       "            background:  linear-gradient(90deg,#df4523 100.0%, transparent 100.0%);\n",
       "        }    #T_27f75434_42b2_11eb_825c_b42e9984f954row2_col1 {\n",
       "            width:  10em;\n",
       "             height:  80%;\n",
       "            background:  linear-gradient(90deg,#df4523 99.7%, transparent 99.7%);\n",
       "        }    #T_27f75434_42b2_11eb_825c_b42e9984f954row3_col1 {\n",
       "            width:  10em;\n",
       "             height:  80%;\n",
       "            background:  linear-gradient(90deg,#df4523 99.6%, transparent 99.6%);\n",
       "        }    #T_27f75434_42b2_11eb_825c_b42e9984f954row4_col1 {\n",
       "            width:  10em;\n",
       "             height:  80%;\n",
       "            background:  linear-gradient(90deg,#df4523 99.2%, transparent 99.2%);\n",
       "        }    #T_27f75434_42b2_11eb_825c_b42e9984f954row5_col1 {\n",
       "            width:  10em;\n",
       "             height:  80%;\n",
       "            background:  linear-gradient(90deg,#df4523 99.0%, transparent 99.0%);\n",
       "        }    #T_27f75434_42b2_11eb_825c_b42e9984f954row6_col1 {\n",
       "            width:  10em;\n",
       "             height:  80%;\n",
       "            background:  linear-gradient(90deg,#df4523 98.4%, transparent 98.4%);\n",
       "        }    #T_27f75434_42b2_11eb_825c_b42e9984f954row7_col1 {\n",
       "            width:  10em;\n",
       "             height:  80%;\n",
       "            background:  linear-gradient(90deg,#df4523 2.4%, transparent 2.4%);\n",
       "        }    #T_27f75434_42b2_11eb_825c_b42e9984f954row8_col1 {\n",
       "            width:  10em;\n",
       "             height:  80%;\n",
       "            background:  linear-gradient(90deg,#df4523 0.9%, transparent 0.9%);\n",
       "        }    #T_27f75434_42b2_11eb_825c_b42e9984f954row9_col1 {\n",
       "            width:  10em;\n",
       "             height:  80%;\n",
       "            background:  linear-gradient(90deg,#df4523 0.3%, transparent 0.3%);\n",
       "        }    #T_27f75434_42b2_11eb_825c_b42e9984f954row10_col1 {\n",
       "            width:  10em;\n",
       "             height:  80%;\n",
       "            background:  linear-gradient(90deg,#df4523 0.3%, transparent 0.3%);\n",
       "        }    #T_27f75434_42b2_11eb_825c_b42e9984f954row11_col1 {\n",
       "            width:  10em;\n",
       "             height:  80%;\n",
       "            background:  linear-gradient(90deg,#df4523 0.3%, transparent 0.3%);\n",
       "        }    #T_27f75434_42b2_11eb_825c_b42e9984f954row12_col1 {\n",
       "            width:  10em;\n",
       "             height:  80%;\n",
       "            background:  linear-gradient(90deg,#df4523 0.3%, transparent 0.3%);\n",
       "        }    #T_27f75434_42b2_11eb_825c_b42e9984f954row13_col1 {\n",
       "            width:  10em;\n",
       "             height:  80%;\n",
       "            background:  linear-gradient(90deg,#df4523 0.2%, transparent 0.2%);\n",
       "        }    #T_27f75434_42b2_11eb_825c_b42e9984f954row14_col1 {\n",
       "            width:  10em;\n",
       "             height:  80%;\n",
       "            background:  linear-gradient(90deg,#df4523 0.2%, transparent 0.2%);\n",
       "        }</style><table id=\"T_27f75434_42b2_11eb_825c_b42e9984f954\" ><thead>    <tr>        <th class=\"blank level0\" ></th>        <th class=\"col_heading level0 col0\" >column_name</th>        <th class=\"col_heading level0 col1\" >percent_missing</th>    </tr></thead><tbody>\n",
       "                <tr>\n",
       "                        <th id=\"T_27f75434_42b2_11eb_825c_b42e9984f954level0_row0\" class=\"row_heading level0 row0\" >review_scores_accuracy</th>\n",
       "                        <td id=\"T_27f75434_42b2_11eb_825c_b42e9984f954row0_col0\" class=\"data row0 col0\" >review_scores_accuracy</td>\n",
       "                        <td id=\"T_27f75434_42b2_11eb_825c_b42e9984f954row0_col1\" class=\"data row0 col1\" >17.23</td>\n",
       "            </tr>\n",
       "            <tr>\n",
       "                        <th id=\"T_27f75434_42b2_11eb_825c_b42e9984f954level0_row1\" class=\"row_heading level0 row1\" >review_scores_checkin</th>\n",
       "                        <td id=\"T_27f75434_42b2_11eb_825c_b42e9984f954row1_col0\" class=\"data row1 col0\" >review_scores_checkin</td>\n",
       "                        <td id=\"T_27f75434_42b2_11eb_825c_b42e9984f954row1_col1\" class=\"data row1 col1\" >17.23</td>\n",
       "            </tr>\n",
       "            <tr>\n",
       "                        <th id=\"T_27f75434_42b2_11eb_825c_b42e9984f954level0_row2\" class=\"row_heading level0 row2\" >review_scores_value</th>\n",
       "                        <td id=\"T_27f75434_42b2_11eb_825c_b42e9984f954row2_col0\" class=\"data row2 col0\" >review_scores_value</td>\n",
       "                        <td id=\"T_27f75434_42b2_11eb_825c_b42e9984f954row2_col1\" class=\"data row2 col1\" >17.18</td>\n",
       "            </tr>\n",
       "            <tr>\n",
       "                        <th id=\"T_27f75434_42b2_11eb_825c_b42e9984f954level0_row3\" class=\"row_heading level0 row3\" >review_scores_location</th>\n",
       "                        <td id=\"T_27f75434_42b2_11eb_825c_b42e9984f954row3_col0\" class=\"data row3 col0\" >review_scores_location</td>\n",
       "                        <td id=\"T_27f75434_42b2_11eb_825c_b42e9984f954row3_col1\" class=\"data row3 col1\" >17.16</td>\n",
       "            </tr>\n",
       "            <tr>\n",
       "                        <th id=\"T_27f75434_42b2_11eb_825c_b42e9984f954level0_row4\" class=\"row_heading level0 row4\" >review_scores_cleanliness</th>\n",
       "                        <td id=\"T_27f75434_42b2_11eb_825c_b42e9984f954row4_col0\" class=\"data row4 col0\" >review_scores_cleanliness</td>\n",
       "                        <td id=\"T_27f75434_42b2_11eb_825c_b42e9984f954row4_col1\" class=\"data row4 col1\" >17.1</td>\n",
       "            </tr>\n",
       "            <tr>\n",
       "                        <th id=\"T_27f75434_42b2_11eb_825c_b42e9984f954level0_row5\" class=\"row_heading level0 row5\" >review_scores_communication</th>\n",
       "                        <td id=\"T_27f75434_42b2_11eb_825c_b42e9984f954row5_col0\" class=\"data row5 col0\" >review_scores_communication</td>\n",
       "                        <td id=\"T_27f75434_42b2_11eb_825c_b42e9984f954row5_col1\" class=\"data row5 col1\" >17.05</td>\n",
       "            </tr>\n",
       "            <tr>\n",
       "                        <th id=\"T_27f75434_42b2_11eb_825c_b42e9984f954level0_row6\" class=\"row_heading level0 row6\" >review_scores_rating</th>\n",
       "                        <td id=\"T_27f75434_42b2_11eb_825c_b42e9984f954row6_col0\" class=\"data row6 col0\" >review_scores_rating</td>\n",
       "                        <td id=\"T_27f75434_42b2_11eb_825c_b42e9984f954row6_col1\" class=\"data row6 col1\" >16.95</td>\n",
       "            </tr>\n",
       "            <tr>\n",
       "                        <th id=\"T_27f75434_42b2_11eb_825c_b42e9984f954level0_row7\" class=\"row_heading level0 row7\" >bathrooms</th>\n",
       "                        <td id=\"T_27f75434_42b2_11eb_825c_b42e9984f954row7_col0\" class=\"data row7 col0\" >bathrooms</td>\n",
       "                        <td id=\"T_27f75434_42b2_11eb_825c_b42e9984f954row7_col1\" class=\"data row7 col1\" >0.42</td>\n",
       "            </tr>\n",
       "            <tr>\n",
       "                        <th id=\"T_27f75434_42b2_11eb_825c_b42e9984f954level0_row8\" class=\"row_heading level0 row8\" >bedrooms</th>\n",
       "                        <td id=\"T_27f75434_42b2_11eb_825c_b42e9984f954row8_col0\" class=\"data row8 col0\" >bedrooms</td>\n",
       "                        <td id=\"T_27f75434_42b2_11eb_825c_b42e9984f954row8_col1\" class=\"data row8 col1\" >0.16</td>\n",
       "            </tr>\n",
       "            <tr>\n",
       "                        <th id=\"T_27f75434_42b2_11eb_825c_b42e9984f954level0_row9\" class=\"row_heading level0 row9\" >host_total_listings_count</th>\n",
       "                        <td id=\"T_27f75434_42b2_11eb_825c_b42e9984f954row9_col0\" class=\"data row9 col0\" >host_total_listings_count</td>\n",
       "                        <td id=\"T_27f75434_42b2_11eb_825c_b42e9984f954row9_col1\" class=\"data row9 col1\" >0.05</td>\n",
       "            </tr>\n",
       "            <tr>\n",
       "                        <th id=\"T_27f75434_42b2_11eb_825c_b42e9984f954level0_row10\" class=\"row_heading level0 row10\" >host_is_superhost</th>\n",
       "                        <td id=\"T_27f75434_42b2_11eb_825c_b42e9984f954row10_col0\" class=\"data row10 col0\" >host_is_superhost</td>\n",
       "                        <td id=\"T_27f75434_42b2_11eb_825c_b42e9984f954row10_col1\" class=\"data row10 col1\" >0.05</td>\n",
       "            </tr>\n",
       "            <tr>\n",
       "                        <th id=\"T_27f75434_42b2_11eb_825c_b42e9984f954level0_row11\" class=\"row_heading level0 row11\" >host_identity_verified</th>\n",
       "                        <td id=\"T_27f75434_42b2_11eb_825c_b42e9984f954row11_col0\" class=\"data row11 col0\" >host_identity_verified</td>\n",
       "                        <td id=\"T_27f75434_42b2_11eb_825c_b42e9984f954row11_col1\" class=\"data row11 col1\" >0.05</td>\n",
       "            </tr>\n",
       "            <tr>\n",
       "                        <th id=\"T_27f75434_42b2_11eb_825c_b42e9984f954level0_row12\" class=\"row_heading level0 row12\" >host_since_in_days</th>\n",
       "                        <td id=\"T_27f75434_42b2_11eb_825c_b42e9984f954row12_col0\" class=\"data row12 col0\" >host_since_in_days</td>\n",
       "                        <td id=\"T_27f75434_42b2_11eb_825c_b42e9984f954row12_col1\" class=\"data row12 col1\" >0.05</td>\n",
       "            </tr>\n",
       "            <tr>\n",
       "                        <th id=\"T_27f75434_42b2_11eb_825c_b42e9984f954level0_row13\" class=\"row_heading level0 row13\" >beds</th>\n",
       "                        <td id=\"T_27f75434_42b2_11eb_825c_b42e9984f954row13_col0\" class=\"data row13 col0\" >beds</td>\n",
       "                        <td id=\"T_27f75434_42b2_11eb_825c_b42e9984f954row13_col1\" class=\"data row13 col1\" >0.03</td>\n",
       "            </tr>\n",
       "            <tr>\n",
       "                        <th id=\"T_27f75434_42b2_11eb_825c_b42e9984f954level0_row14\" class=\"row_heading level0 row14\" >property_type</th>\n",
       "                        <td id=\"T_27f75434_42b2_11eb_825c_b42e9984f954row14_col0\" class=\"data row14 col0\" >property_type</td>\n",
       "                        <td id=\"T_27f75434_42b2_11eb_825c_b42e9984f954row14_col1\" class=\"data row14 col1\" >0.03</td>\n",
       "            </tr>\n",
       "    </tbody></table>"
      ],
      "text/plain": [
       "<pandas.io.formats.style.Styler at 0x1aad2320fc8>"
      ]
     },
     "execution_count": 30,
     "metadata": {},
     "output_type": "execute_result"
    }
   ],
   "source": [
    "give_missing_values(df_listings_clean, visualize=True)"
   ]
  },
  {
   "cell_type": "markdown",
   "metadata": {},
   "source": [
    "Since the reviews are very important for our analysis, we need to drop the columns with missing values."
   ]
  },
  {
   "cell_type": "code",
   "execution_count": 31,
   "metadata": {},
   "outputs": [],
   "source": [
    "df_listings_clean = df_listings_clean.dropna(subset=['review_scores_rating'], axis=0)"
   ]
  },
  {
   "cell_type": "markdown",
   "metadata": {},
   "source": [
    "### Imputing Values"
   ]
  },
  {
   "cell_type": "markdown",
   "metadata": {},
   "source": [
    "The more detailed review columns, from which the review_scores_rating is calculated, has a few missing values. \n",
    "\n",
    "Next steps:\n",
    "    - See if we can infer the missing values from the \"review_scores_rating\" column  \n",
    "    - Look at the distribution of those columns."
   ]
  },
  {
   "cell_type": "code",
   "execution_count": 32,
   "metadata": {},
   "outputs": [
    {
     "data": {
      "text/plain": [
       "review_scores_rating           95.0\n",
       "review_scores_checkin          10.0\n",
       "review_scores_accuracy         10.0\n",
       "review_scores_value            10.0\n",
       "review_scores_location          9.0\n",
       "review_scores_cleanliness      10.0\n",
       "review_scores_communication    10.0\n",
       "Name: 0, dtype: float64"
      ]
     },
     "execution_count": 32,
     "metadata": {},
     "output_type": "execute_result"
    }
   ],
   "source": [
    "df_listings_clean[['review_scores_rating','review_scores_checkin', 'review_scores_accuracy', 'review_scores_value',\n",
    "               'review_scores_location', 'review_scores_cleanliness', 'review_scores_communication']].iloc[0,:]"
   ]
  },
  {
   "cell_type": "markdown",
   "metadata": {},
   "source": [
    "It looks like the \"review_scores_rating\" is not an average of the more detailed rating categories. I also checked this on the AirBnB site. While they seem to have changed their rating system (scale went down from 10 to 5 values), the statement holds true. "
   ]
  },
  {
   "cell_type": "code",
   "execution_count": 33,
   "metadata": {},
   "outputs": [
    {
     "data": {
      "text/plain": [
       "<matplotlib.axes._subplots.AxesSubplot at 0x1aad241ef08>"
      ]
     },
     "execution_count": 33,
     "metadata": {},
     "output_type": "execute_result"
    },
    {
     "data": {
      "image/png": "[encoded data removed]",
      "text/plain": [
       "<Figure size 432x288 with 1 Axes>"
      ]
     },
     "metadata": {
      "needs_background": "light"
     },
     "output_type": "display_data"
    }
   ],
   "source": [
    "df_listings_clean['review_scores_location'].plot.hist()"
   ]
  },
  {
   "cell_type": "markdown",
   "metadata": {},
   "source": [
    "I will impute the values with the mean, as the review data is pretty skewed and has some outliers. It's only a very small number, but I don't want to lose unnecessary price data."
   ]
  },
  {
   "cell_type": "code",
   "execution_count": 34,
   "metadata": {},
   "outputs": [],
   "source": [
    "fill_mean = lambda col: col.fillna(col.mean())\n",
    "\n",
    "def impute_columns(df, column_list): \n",
    "\n",
    "    ''' \n",
    "    INPUT  \n",
    "        df - the dataframe with columns having missing values to be imputed\n",
    "        column_list - the columns of the given dataframe with missing values to be imputed    \n",
    "\n",
    "    OUTPUT \n",
    "        df_imputed - a dataframe with specified columns imputed\n",
    "    ''' \n",
    "    \n",
    "    df_imputed = df.copy()\n",
    "\n",
    "    for col in column_list:\n",
    "        df_imputed[col] = fill_mean(df_imputed[col])\n",
    "    \n",
    "    return df_imputed "
   ]
  },
  {
   "cell_type": "code",
   "execution_count": 35,
   "metadata": {},
   "outputs": [],
   "source": [
    "review_cols = ['review_scores_rating', 'review_scores_checkin', 'review_scores_accuracy', 'review_scores_value',\n",
    "               'review_scores_location', 'review_scores_cleanliness', 'review_scores_communication']\n",
    "\n",
    "df_listings_clean = impute_columns(df_listings_clean, review_cols)"
   ]
  },
  {
   "cell_type": "code",
   "execution_count": 36,
   "metadata": {},
   "outputs": [
    {
     "data": {
      "text/html": [
       "<style  type=\"text/css\" >\n",
       "    #T_2814643a_42b2_11eb_85e7_b42e9984f954row0_col1 {\n",
       "            width:  10em;\n",
       "             height:  80%;\n",
       "            background:  linear-gradient(90deg,#df4523 100.0%, transparent 100.0%);\n",
       "        }    #T_2814643a_42b2_11eb_85e7_b42e9984f954row1_col1 {\n",
       "            width:  10em;\n",
       "             height:  80%;\n",
       "            background:  linear-gradient(90deg,#df4523 50.0%, transparent 50.0%);\n",
       "        }</style><table id=\"T_2814643a_42b2_11eb_85e7_b42e9984f954\" ><thead>    <tr>        <th class=\"blank level0\" ></th>        <th class=\"col_heading level0 col0\" >column_name</th>        <th class=\"col_heading level0 col1\" >percent_missing</th>    </tr></thead><tbody>\n",
       "                <tr>\n",
       "                        <th id=\"T_2814643a_42b2_11eb_85e7_b42e9984f954level0_row0\" class=\"row_heading level0 row0\" >bathrooms</th>\n",
       "                        <td id=\"T_2814643a_42b2_11eb_85e7_b42e9984f954row0_col0\" class=\"data row0 col0\" >bathrooms</td>\n",
       "                        <td id=\"T_2814643a_42b2_11eb_85e7_b42e9984f954row0_col1\" class=\"data row0 col1\" >0.38</td>\n",
       "            </tr>\n",
       "            <tr>\n",
       "                        <th id=\"T_2814643a_42b2_11eb_85e7_b42e9984f954level0_row1\" class=\"row_heading level0 row1\" >bedrooms</th>\n",
       "                        <td id=\"T_2814643a_42b2_11eb_85e7_b42e9984f954row1_col0\" class=\"data row1 col0\" >bedrooms</td>\n",
       "                        <td id=\"T_2814643a_42b2_11eb_85e7_b42e9984f954row1_col1\" class=\"data row1 col1\" >0.19</td>\n",
       "            </tr>\n",
       "    </tbody></table>"
      ],
      "text/plain": [
       "<pandas.io.formats.style.Styler at 0x1aad2388c08>"
      ]
     },
     "execution_count": 36,
     "metadata": {},
     "output_type": "execute_result"
    }
   ],
   "source": [
    "give_missing_values(df_listings_clean, visualize=True)"
   ]
  },
  {
   "cell_type": "code",
   "execution_count": 37,
   "metadata": {},
   "outputs": [],
   "source": [
    "df_listings_clean = impute_columns(df_listings_clean, ['bathrooms', 'bedrooms'])"
   ]
  },
  {
   "cell_type": "markdown",
   "metadata": {},
   "source": [
    "### Sort Dataframe more intuitively\n",
    "\n",
    "Currently, the Dataframe columns are all over the place. We want to sort them in a more logical structure."
   ]
  },
  {
   "cell_type": "code",
   "execution_count": 38,
   "metadata": {},
   "outputs": [],
   "source": [
    "df_listings_clean = df_listings_clean[['neighbourhood_group_cleansed', \n",
    "                                       'property_type', 'room_type', 'accommodates', 'beds', 'bedrooms', 'bathrooms',\n",
    "                                       'bed_type', 'guests_included', 'extra_people', 'cancellation_policy', 'security_deposit_required',\n",
    "                                       'minimum_nights', 'maximum_nights', 'availability_365', 'instant_bookable',\n",
    "                                       'weekly_booking_available', 'monthly_booking_available',\n",
    "                                       'number_of_reviews', 'review_scores_rating',\n",
    "                                       'review_scores_accuracy', 'review_scores_communication', \n",
    "                                       'review_scores_location', 'review_scores_checkin', 'review_scores_value', \n",
    "                                       'host_about_available', 'host_thumbnail_available', 'host_since_in_days',\n",
    "                                       'host_is_superhost', 'host_total_listings_count', 'host_identity_verified',\n",
    "                                       'xl_picture_available',\n",
    "                                       'notes_available', 'thumbnail_available',\n",
    "                                       'require_guest_profile_picture', 'require_guest_phone_verification',\n",
    "                                       'price']]"
   ]
  },
  {
   "cell_type": "code",
   "execution_count": 39,
   "metadata": {},
   "outputs": [
    {
     "data": {
      "text/html": [
       "<div>\n",
       "<style scoped>\n",
       "    .dataframe tbody tr th:only-of-type {\n",
       "        vertical-align: middle;\n",
       "    }\n",
       "\n",
       "    .dataframe tbody tr th {\n",
       "        vertical-align: top;\n",
       "    }\n",
       "\n",
       "    .dataframe thead th {\n",
       "        text-align: right;\n",
       "    }\n",
       "</style>\n",
       "<table border=\"1\" class=\"dataframe\">\n",
       "  <thead>\n",
       "    <tr style=\"text-align: right;\">\n",
       "      <th></th>\n",
       "      <th>neighbourhood_group_cleansed</th>\n",
       "      <th>property_type</th>\n",
       "      <th>room_type</th>\n",
       "      <th>accommodates</th>\n",
       "      <th>beds</th>\n",
       "      <th>bedrooms</th>\n",
       "      <th>bathrooms</th>\n",
       "      <th>bed_type</th>\n",
       "      <th>guests_included</th>\n",
       "      <th>extra_people</th>\n",
       "      <th>...</th>\n",
       "      <th>host_since_in_days</th>\n",
       "      <th>host_is_superhost</th>\n",
       "      <th>host_total_listings_count</th>\n",
       "      <th>host_identity_verified</th>\n",
       "      <th>xl_picture_available</th>\n",
       "      <th>notes_available</th>\n",
       "      <th>thumbnail_available</th>\n",
       "      <th>require_guest_profile_picture</th>\n",
       "      <th>require_guest_phone_verification</th>\n",
       "      <th>price</th>\n",
       "    </tr>\n",
       "  </thead>\n",
       "  <tbody>\n",
       "    <tr>\n",
       "      <td>0</td>\n",
       "      <td>Queen Anne</td>\n",
       "      <td>Apartment</td>\n",
       "      <td>Entire home/apt</td>\n",
       "      <td>4</td>\n",
       "      <td>1.0</td>\n",
       "      <td>1.0</td>\n",
       "      <td>1.0</td>\n",
       "      <td>Real Bed</td>\n",
       "      <td>2</td>\n",
       "      <td>5.0</td>\n",
       "      <td>...</td>\n",
       "      <td>1770.0</td>\n",
       "      <td>False</td>\n",
       "      <td>3.0</td>\n",
       "      <td>True</td>\n",
       "      <td>False</td>\n",
       "      <td>False</td>\n",
       "      <td>False</td>\n",
       "      <td>False</td>\n",
       "      <td>False</td>\n",
       "      <td>85.0</td>\n",
       "    </tr>\n",
       "    <tr>\n",
       "      <td>1</td>\n",
       "      <td>Queen Anne</td>\n",
       "      <td>Apartment</td>\n",
       "      <td>Entire home/apt</td>\n",
       "      <td>4</td>\n",
       "      <td>1.0</td>\n",
       "      <td>1.0</td>\n",
       "      <td>1.0</td>\n",
       "      <td>Real Bed</td>\n",
       "      <td>1</td>\n",
       "      <td>0.0</td>\n",
       "      <td>...</td>\n",
       "      <td>1210.0</td>\n",
       "      <td>True</td>\n",
       "      <td>6.0</td>\n",
       "      <td>True</td>\n",
       "      <td>True</td>\n",
       "      <td>True</td>\n",
       "      <td>True</td>\n",
       "      <td>True</td>\n",
       "      <td>True</td>\n",
       "      <td>150.0</td>\n",
       "    </tr>\n",
       "    <tr>\n",
       "      <td>2</td>\n",
       "      <td>Queen Anne</td>\n",
       "      <td>House</td>\n",
       "      <td>Entire home/apt</td>\n",
       "      <td>11</td>\n",
       "      <td>7.0</td>\n",
       "      <td>5.0</td>\n",
       "      <td>4.5</td>\n",
       "      <td>Real Bed</td>\n",
       "      <td>10</td>\n",
       "      <td>25.0</td>\n",
       "      <td>...</td>\n",
       "      <td>734.0</td>\n",
       "      <td>False</td>\n",
       "      <td>2.0</td>\n",
       "      <td>True</td>\n",
       "      <td>False</td>\n",
       "      <td>True</td>\n",
       "      <td>False</td>\n",
       "      <td>False</td>\n",
       "      <td>False</td>\n",
       "      <td>975.0</td>\n",
       "    </tr>\n",
       "    <tr>\n",
       "      <td>4</td>\n",
       "      <td>Queen Anne</td>\n",
       "      <td>House</td>\n",
       "      <td>Entire home/apt</td>\n",
       "      <td>6</td>\n",
       "      <td>3.0</td>\n",
       "      <td>3.0</td>\n",
       "      <td>2.0</td>\n",
       "      <td>Real Bed</td>\n",
       "      <td>6</td>\n",
       "      <td>15.0</td>\n",
       "      <td>...</td>\n",
       "      <td>1660.0</td>\n",
       "      <td>False</td>\n",
       "      <td>2.0</td>\n",
       "      <td>True</td>\n",
       "      <td>False</td>\n",
       "      <td>True</td>\n",
       "      <td>False</td>\n",
       "      <td>False</td>\n",
       "      <td>False</td>\n",
       "      <td>450.0</td>\n",
       "    </tr>\n",
       "    <tr>\n",
       "      <td>5</td>\n",
       "      <td>Queen Anne</td>\n",
       "      <td>House</td>\n",
       "      <td>Private room</td>\n",
       "      <td>2</td>\n",
       "      <td>1.0</td>\n",
       "      <td>1.0</td>\n",
       "      <td>1.0</td>\n",
       "      <td>Real Bed</td>\n",
       "      <td>1</td>\n",
       "      <td>30.0</td>\n",
       "      <td>...</td>\n",
       "      <td>1999.0</td>\n",
       "      <td>False</td>\n",
       "      <td>1.0</td>\n",
       "      <td>True</td>\n",
       "      <td>True</td>\n",
       "      <td>True</td>\n",
       "      <td>True</td>\n",
       "      <td>False</td>\n",
       "      <td>False</td>\n",
       "      <td>120.0</td>\n",
       "    </tr>\n",
       "  </tbody>\n",
       "</table>\n",
       "<p>5 rows × 37 columns</p>\n",
       "</div>"
      ],
      "text/plain": [
       "  neighbourhood_group_cleansed property_type        room_type  accommodates  \\\n",
       "0                   Queen Anne     Apartment  Entire home/apt             4   \n",
       "1                   Queen Anne     Apartment  Entire home/apt             4   \n",
       "2                   Queen Anne         House  Entire home/apt            11   \n",
       "4                   Queen Anne         House  Entire home/apt             6   \n",
       "5                   Queen Anne         House     Private room             2   \n",
       "\n",
       "   beds  bedrooms  bathrooms  bed_type  guests_included  extra_people  ...  \\\n",
       "0   1.0       1.0        1.0  Real Bed                2           5.0  ...   \n",
       "1   1.0       1.0        1.0  Real Bed                1           0.0  ...   \n",
       "2   7.0       5.0        4.5  Real Bed               10          25.0  ...   \n",
       "4   3.0       3.0        2.0  Real Bed                6          15.0  ...   \n",
       "5   1.0       1.0        1.0  Real Bed                1          30.0  ...   \n",
       "\n",
       "  host_since_in_days  host_is_superhost  host_total_listings_count  \\\n",
       "0             1770.0              False                        3.0   \n",
       "1             1210.0               True                        6.0   \n",
       "2              734.0              False                        2.0   \n",
       "4             1660.0              False                        2.0   \n",
       "5             1999.0              False                        1.0   \n",
       "\n",
       "   host_identity_verified  xl_picture_available  notes_available  \\\n",
       "0                    True                 False            False   \n",
       "1                    True                  True             True   \n",
       "2                    True                 False             True   \n",
       "4                    True                 False             True   \n",
       "5                    True                  True             True   \n",
       "\n",
       "   thumbnail_available  require_guest_profile_picture  \\\n",
       "0                False                          False   \n",
       "1                 True                           True   \n",
       "2                False                          False   \n",
       "4                False                          False   \n",
       "5                 True                          False   \n",
       "\n",
       "   require_guest_phone_verification  price  \n",
       "0                             False   85.0  \n",
       "1                              True  150.0  \n",
       "2                             False  975.0  \n",
       "4                             False  450.0  \n",
       "5                             False  120.0  \n",
       "\n",
       "[5 rows x 37 columns]"
      ]
     },
     "execution_count": 39,
     "metadata": {},
     "output_type": "execute_result"
    }
   ],
   "source": [
    "df_listings_clean.head(5)"
   ]
  },
  {
   "cell_type": "code",
   "execution_count": 40,
   "metadata": {},
   "outputs": [
    {
     "data": {
      "text/plain": [
       "Index(['neighbourhood_group_cleansed', 'property_type', 'room_type',\n",
       "       'accommodates', 'beds', 'bedrooms', 'bathrooms', 'bed_type',\n",
       "       'guests_included', 'extra_people', 'cancellation_policy',\n",
       "       'security_deposit_required', 'minimum_nights', 'maximum_nights',\n",
       "       'availability_365', 'instant_bookable', 'weekly_booking_available',\n",
       "       'monthly_booking_available', 'number_of_reviews',\n",
       "       'review_scores_rating', 'review_scores_accuracy',\n",
       "       'review_scores_communication', 'review_scores_location',\n",
       "       'review_scores_checkin', 'review_scores_value', 'host_about_available',\n",
       "       'host_thumbnail_available', 'host_since_in_days', 'host_is_superhost',\n",
       "       'host_total_listings_count', 'host_identity_verified',\n",
       "       'xl_picture_available', 'notes_available', 'thumbnail_available',\n",
       "       'require_guest_profile_picture', 'require_guest_phone_verification',\n",
       "       'price'],\n",
       "      dtype='object')"
      ]
     },
     "execution_count": 40,
     "metadata": {},
     "output_type": "execute_result"
    }
   ],
   "source": [
    "df_listings_clean.columns"
   ]
  },
  {
   "cell_type": "code",
   "execution_count": 41,
   "metadata": {},
   "outputs": [
    {
     "data": {
      "text/plain": [
       "(3171, 37)"
      ]
     },
     "execution_count": 41,
     "metadata": {},
     "output_type": "execute_result"
    }
   ],
   "source": [
    "df_listings_clean.shape"
   ]
  },
  {
   "cell_type": "markdown",
   "metadata": {},
   "source": [
    "## 5 Data Modeling"
   ]
  },
  {
   "cell_type": "markdown",
   "metadata": {},
   "source": [
    "### Linear Model"
   ]
  },
  {
   "cell_type": "markdown",
   "metadata": {},
   "source": [
    "Build linear model to predict price."
   ]
  },
  {
   "cell_type": "markdown",
   "metadata": {},
   "source": [
    "#### Creating dummy columns"
   ]
  },
  {
   "cell_type": "code",
   "execution_count": 42,
   "metadata": {},
   "outputs": [],
   "source": [
    "def create_dummy_df(df, cat_cols, dummy_na): \n",
    "\n",
    "    ''' \n",
    "\n",
    "    INPUT: \n",
    "        df - pandas dataframe with categorical variables you want to dummy \n",
    "        cat_cols - list of strings that are associated with names of the categorical columns \n",
    "        dummy_na - Bool holding whether you want to dummy NA vals of categorical columns or not \n",
    "    \n",
    "\n",
    "    OUTPUT: \n",
    "        df - a new dataframe that has the following characteristics: \n",
    "                1. contains all columns that were not specified as categorical \n",
    "                2. removes all the original columns in cat_cols \n",
    "                3. dummy columns for each of the categorical columns in cat_cols \n",
    "                4. if dummy_na is True - it also contains dummy columns for the NaN values \n",
    "                5. Use a prefix of the column name with an underscore (_) for separating  \n",
    "    ''' \n",
    "\n",
    "     \n",
    "\n",
    "    for col in cat_cols: \n",
    "        try: \n",
    "            # for each cat add dummy var, drop original column \n",
    "            df = pd.concat([df.drop(col, axis=1), pd.get_dummies(df[col], prefix=col, prefix_sep='_', drop_first=True, dummy_na=dummy_na)], axis=1) \n",
    "        except: \n",
    "            continue \n",
    "\n",
    "    return df "
   ]
  },
  {
   "cell_type": "code",
   "execution_count": 43,
   "metadata": {},
   "outputs": [],
   "source": [
    "cat_cols = ['neighbourhood_group_cleansed', 'room_type', 'property_type', 'bed_type', 'cancellation_policy']"
   ]
  },
  {
   "cell_type": "code",
   "execution_count": 44,
   "metadata": {},
   "outputs": [
    {
     "data": {
      "text/html": [
       "<div>\n",
       "<style scoped>\n",
       "    .dataframe tbody tr th:only-of-type {\n",
       "        vertical-align: middle;\n",
       "    }\n",
       "\n",
       "    .dataframe tbody tr th {\n",
       "        vertical-align: top;\n",
       "    }\n",
       "\n",
       "    .dataframe thead th {\n",
       "        text-align: right;\n",
       "    }\n",
       "</style>\n",
       "<table border=\"1\" class=\"dataframe\">\n",
       "  <thead>\n",
       "    <tr style=\"text-align: right;\">\n",
       "      <th></th>\n",
       "      <th>neighbourhood_group_cleansed</th>\n",
       "      <th>room_type</th>\n",
       "      <th>property_type</th>\n",
       "      <th>bed_type</th>\n",
       "      <th>cancellation_policy</th>\n",
       "    </tr>\n",
       "  </thead>\n",
       "  <tbody>\n",
       "    <tr>\n",
       "      <td>0</td>\n",
       "      <td>Queen Anne</td>\n",
       "      <td>Entire home/apt</td>\n",
       "      <td>Apartment</td>\n",
       "      <td>Real Bed</td>\n",
       "      <td>moderate</td>\n",
       "    </tr>\n",
       "    <tr>\n",
       "      <td>1</td>\n",
       "      <td>Queen Anne</td>\n",
       "      <td>Entire home/apt</td>\n",
       "      <td>Apartment</td>\n",
       "      <td>Real Bed</td>\n",
       "      <td>strict</td>\n",
       "    </tr>\n",
       "    <tr>\n",
       "      <td>2</td>\n",
       "      <td>Queen Anne</td>\n",
       "      <td>Entire home/apt</td>\n",
       "      <td>House</td>\n",
       "      <td>Real Bed</td>\n",
       "      <td>strict</td>\n",
       "    </tr>\n",
       "    <tr>\n",
       "      <td>4</td>\n",
       "      <td>Queen Anne</td>\n",
       "      <td>Entire home/apt</td>\n",
       "      <td>House</td>\n",
       "      <td>Real Bed</td>\n",
       "      <td>strict</td>\n",
       "    </tr>\n",
       "    <tr>\n",
       "      <td>5</td>\n",
       "      <td>Queen Anne</td>\n",
       "      <td>Private room</td>\n",
       "      <td>House</td>\n",
       "      <td>Real Bed</td>\n",
       "      <td>strict</td>\n",
       "    </tr>\n",
       "  </tbody>\n",
       "</table>\n",
       "</div>"
      ],
      "text/plain": [
       "  neighbourhood_group_cleansed        room_type property_type  bed_type  \\\n",
       "0                   Queen Anne  Entire home/apt     Apartment  Real Bed   \n",
       "1                   Queen Anne  Entire home/apt     Apartment  Real Bed   \n",
       "2                   Queen Anne  Entire home/apt         House  Real Bed   \n",
       "4                   Queen Anne  Entire home/apt         House  Real Bed   \n",
       "5                   Queen Anne     Private room         House  Real Bed   \n",
       "\n",
       "  cancellation_policy  \n",
       "0            moderate  \n",
       "1              strict  \n",
       "2              strict  \n",
       "4              strict  \n",
       "5              strict  "
      ]
     },
     "execution_count": 44,
     "metadata": {},
     "output_type": "execute_result"
    }
   ],
   "source": [
    "df_listings_clean[cat_cols].head()"
   ]
  },
  {
   "cell_type": "code",
   "execution_count": 45,
   "metadata": {},
   "outputs": [],
   "source": [
    "df_listings_dummy = create_dummy_df(df_listings_clean, cat_cols, dummy_na=False)"
   ]
  },
  {
   "cell_type": "code",
   "execution_count": 46,
   "metadata": {},
   "outputs": [
    {
     "data": {
      "text/html": [
       "<div>\n",
       "<style scoped>\n",
       "    .dataframe tbody tr th:only-of-type {\n",
       "        vertical-align: middle;\n",
       "    }\n",
       "\n",
       "    .dataframe tbody tr th {\n",
       "        vertical-align: top;\n",
       "    }\n",
       "\n",
       "    .dataframe thead th {\n",
       "        text-align: right;\n",
       "    }\n",
       "</style>\n",
       "<table border=\"1\" class=\"dataframe\">\n",
       "  <thead>\n",
       "    <tr style=\"text-align: right;\">\n",
       "      <th></th>\n",
       "      <th>accommodates</th>\n",
       "      <th>beds</th>\n",
       "      <th>bedrooms</th>\n",
       "      <th>bathrooms</th>\n",
       "      <th>guests_included</th>\n",
       "      <th>extra_people</th>\n",
       "      <th>security_deposit_required</th>\n",
       "      <th>minimum_nights</th>\n",
       "      <th>maximum_nights</th>\n",
       "      <th>availability_365</th>\n",
       "      <th>...</th>\n",
       "      <th>property_type_Tent</th>\n",
       "      <th>property_type_Townhouse</th>\n",
       "      <th>property_type_Treehouse</th>\n",
       "      <th>property_type_Yurt</th>\n",
       "      <th>bed_type_Couch</th>\n",
       "      <th>bed_type_Futon</th>\n",
       "      <th>bed_type_Pull-out Sofa</th>\n",
       "      <th>bed_type_Real Bed</th>\n",
       "      <th>cancellation_policy_moderate</th>\n",
       "      <th>cancellation_policy_strict</th>\n",
       "    </tr>\n",
       "  </thead>\n",
       "  <tbody>\n",
       "    <tr>\n",
       "      <td>0</td>\n",
       "      <td>4</td>\n",
       "      <td>1.0</td>\n",
       "      <td>1.0</td>\n",
       "      <td>1.0</td>\n",
       "      <td>2</td>\n",
       "      <td>5.0</td>\n",
       "      <td>False</td>\n",
       "      <td>1</td>\n",
       "      <td>365</td>\n",
       "      <td>346</td>\n",
       "      <td>...</td>\n",
       "      <td>0</td>\n",
       "      <td>0</td>\n",
       "      <td>0</td>\n",
       "      <td>0</td>\n",
       "      <td>0</td>\n",
       "      <td>0</td>\n",
       "      <td>0</td>\n",
       "      <td>1</td>\n",
       "      <td>1</td>\n",
       "      <td>0</td>\n",
       "    </tr>\n",
       "    <tr>\n",
       "      <td>1</td>\n",
       "      <td>4</td>\n",
       "      <td>1.0</td>\n",
       "      <td>1.0</td>\n",
       "      <td>1.0</td>\n",
       "      <td>1</td>\n",
       "      <td>0.0</td>\n",
       "      <td>True</td>\n",
       "      <td>2</td>\n",
       "      <td>90</td>\n",
       "      <td>291</td>\n",
       "      <td>...</td>\n",
       "      <td>0</td>\n",
       "      <td>0</td>\n",
       "      <td>0</td>\n",
       "      <td>0</td>\n",
       "      <td>0</td>\n",
       "      <td>0</td>\n",
       "      <td>0</td>\n",
       "      <td>1</td>\n",
       "      <td>0</td>\n",
       "      <td>1</td>\n",
       "    </tr>\n",
       "    <tr>\n",
       "      <td>2</td>\n",
       "      <td>11</td>\n",
       "      <td>7.0</td>\n",
       "      <td>5.0</td>\n",
       "      <td>4.5</td>\n",
       "      <td>10</td>\n",
       "      <td>25.0</td>\n",
       "      <td>True</td>\n",
       "      <td>4</td>\n",
       "      <td>30</td>\n",
       "      <td>220</td>\n",
       "      <td>...</td>\n",
       "      <td>0</td>\n",
       "      <td>0</td>\n",
       "      <td>0</td>\n",
       "      <td>0</td>\n",
       "      <td>0</td>\n",
       "      <td>0</td>\n",
       "      <td>0</td>\n",
       "      <td>1</td>\n",
       "      <td>0</td>\n",
       "      <td>1</td>\n",
       "    </tr>\n",
       "    <tr>\n",
       "      <td>4</td>\n",
       "      <td>6</td>\n",
       "      <td>3.0</td>\n",
       "      <td>3.0</td>\n",
       "      <td>2.0</td>\n",
       "      <td>6</td>\n",
       "      <td>15.0</td>\n",
       "      <td>True</td>\n",
       "      <td>1</td>\n",
       "      <td>1125</td>\n",
       "      <td>365</td>\n",
       "      <td>...</td>\n",
       "      <td>0</td>\n",
       "      <td>0</td>\n",
       "      <td>0</td>\n",
       "      <td>0</td>\n",
       "      <td>0</td>\n",
       "      <td>0</td>\n",
       "      <td>0</td>\n",
       "      <td>1</td>\n",
       "      <td>0</td>\n",
       "      <td>1</td>\n",
       "    </tr>\n",
       "    <tr>\n",
       "      <td>5</td>\n",
       "      <td>2</td>\n",
       "      <td>1.0</td>\n",
       "      <td>1.0</td>\n",
       "      <td>1.0</td>\n",
       "      <td>1</td>\n",
       "      <td>30.0</td>\n",
       "      <td>False</td>\n",
       "      <td>1</td>\n",
       "      <td>6</td>\n",
       "      <td>302</td>\n",
       "      <td>...</td>\n",
       "      <td>0</td>\n",
       "      <td>0</td>\n",
       "      <td>0</td>\n",
       "      <td>0</td>\n",
       "      <td>0</td>\n",
       "      <td>0</td>\n",
       "      <td>0</td>\n",
       "      <td>1</td>\n",
       "      <td>0</td>\n",
       "      <td>1</td>\n",
       "    </tr>\n",
       "  </tbody>\n",
       "</table>\n",
       "<p>5 rows × 71 columns</p>\n",
       "</div>"
      ],
      "text/plain": [
       "   accommodates  beds  bedrooms  bathrooms  guests_included  extra_people  \\\n",
       "0             4   1.0       1.0        1.0                2           5.0   \n",
       "1             4   1.0       1.0        1.0                1           0.0   \n",
       "2            11   7.0       5.0        4.5               10          25.0   \n",
       "4             6   3.0       3.0        2.0                6          15.0   \n",
       "5             2   1.0       1.0        1.0                1          30.0   \n",
       "\n",
       "   security_deposit_required  minimum_nights  maximum_nights  \\\n",
       "0                      False               1             365   \n",
       "1                       True               2              90   \n",
       "2                       True               4              30   \n",
       "4                       True               1            1125   \n",
       "5                      False               1               6   \n",
       "\n",
       "   availability_365  ...  property_type_Tent  property_type_Townhouse  \\\n",
       "0               346  ...                   0                        0   \n",
       "1               291  ...                   0                        0   \n",
       "2               220  ...                   0                        0   \n",
       "4               365  ...                   0                        0   \n",
       "5               302  ...                   0                        0   \n",
       "\n",
       "   property_type_Treehouse  property_type_Yurt  bed_type_Couch  \\\n",
       "0                        0                   0               0   \n",
       "1                        0                   0               0   \n",
       "2                        0                   0               0   \n",
       "4                        0                   0               0   \n",
       "5                        0                   0               0   \n",
       "\n",
       "   bed_type_Futon  bed_type_Pull-out Sofa  bed_type_Real Bed  \\\n",
       "0               0                       0                  1   \n",
       "1               0                       0                  1   \n",
       "2               0                       0                  1   \n",
       "4               0                       0                  1   \n",
       "5               0                       0                  1   \n",
       "\n",
       "   cancellation_policy_moderate  cancellation_policy_strict  \n",
       "0                             1                           0  \n",
       "1                             0                           1  \n",
       "2                             0                           1  \n",
       "4                             0                           1  \n",
       "5                             0                           1  \n",
       "\n",
       "[5 rows x 71 columns]"
      ]
     },
     "execution_count": 46,
     "metadata": {},
     "output_type": "execute_result"
    }
   ],
   "source": [
    "df_listings_dummy.head()"
   ]
  },
  {
   "cell_type": "code",
   "execution_count": 47,
   "metadata": {},
   "outputs": [
    {
     "data": {
      "text/plain": [
       "Index(['accommodates', 'beds', 'bedrooms', 'bathrooms', 'guests_included',\n",
       "       'extra_people', 'security_deposit_required', 'minimum_nights',\n",
       "       'maximum_nights', 'availability_365', 'instant_bookable',\n",
       "       'weekly_booking_available', 'monthly_booking_available',\n",
       "       'number_of_reviews', 'review_scores_rating', 'review_scores_accuracy',\n",
       "       'review_scores_communication', 'review_scores_location',\n",
       "       'review_scores_checkin', 'review_scores_value', 'host_about_available',\n",
       "       'host_thumbnail_available', 'host_since_in_days', 'host_is_superhost',\n",
       "       'host_total_listings_count', 'host_identity_verified',\n",
       "       'xl_picture_available', 'notes_available', 'thumbnail_available',\n",
       "       'require_guest_profile_picture', 'require_guest_phone_verification',\n",
       "       'price', 'neighbourhood_group_cleansed_Beacon Hill',\n",
       "       'neighbourhood_group_cleansed_Capitol Hill',\n",
       "       'neighbourhood_group_cleansed_Cascade',\n",
       "       'neighbourhood_group_cleansed_Central Area',\n",
       "       'neighbourhood_group_cleansed_Delridge',\n",
       "       'neighbourhood_group_cleansed_Downtown',\n",
       "       'neighbourhood_group_cleansed_Interbay',\n",
       "       'neighbourhood_group_cleansed_Lake City',\n",
       "       'neighbourhood_group_cleansed_Magnolia',\n",
       "       'neighbourhood_group_cleansed_Northgate',\n",
       "       'neighbourhood_group_cleansed_Other neighborhoods',\n",
       "       'neighbourhood_group_cleansed_Queen Anne',\n",
       "       'neighbourhood_group_cleansed_Rainier Valley',\n",
       "       'neighbourhood_group_cleansed_Seward Park',\n",
       "       'neighbourhood_group_cleansed_University District',\n",
       "       'neighbourhood_group_cleansed_West Seattle', 'room_type_Private room',\n",
       "       'room_type_Shared room', 'property_type_Bed & Breakfast',\n",
       "       'property_type_Boat', 'property_type_Bungalow', 'property_type_Cabin',\n",
       "       'property_type_Camper/RV', 'property_type_Chalet',\n",
       "       'property_type_Condominium', 'property_type_Dorm',\n",
       "       'property_type_House', 'property_type_Loft', 'property_type_Other',\n",
       "       'property_type_Tent', 'property_type_Townhouse',\n",
       "       'property_type_Treehouse', 'property_type_Yurt', 'bed_type_Couch',\n",
       "       'bed_type_Futon', 'bed_type_Pull-out Sofa', 'bed_type_Real Bed',\n",
       "       'cancellation_policy_moderate', 'cancellation_policy_strict'],\n",
       "      dtype='object')"
      ]
     },
     "execution_count": 47,
     "metadata": {},
     "output_type": "execute_result"
    }
   ],
   "source": [
    "df_listings_dummy.columns"
   ]
  },
  {
   "cell_type": "markdown",
   "metadata": {},
   "source": [
    "#### Creating the model"
   ]
  },
  {
   "cell_type": "markdown",
   "metadata": {},
   "source": [
    "I had to drop 'thumbnail_available' and 'host_thumbnail_available' as they led to very strange results."
   ]
  },
  {
   "cell_type": "code",
   "execution_count": 48,
   "metadata": {},
   "outputs": [],
   "source": [
    "X= df_listings_dummy.drop(['price', 'thumbnail_available', 'host_thumbnail_available'], axis=1)\n",
    "#X= df_listings_dummy.drop(['price'], axis=1)\n",
    "y= df_listings_dummy['price']"
   ]
  },
  {
   "cell_type": "markdown",
   "metadata": {},
   "source": [
    "**Test_size:** percentage of original datasat (rows) going to be used for the test <br>\n",
    "**Random_state:** seed for the generated sample distribution"
   ]
  },
  {
   "cell_type": "code",
   "execution_count": 49,
   "metadata": {},
   "outputs": [],
   "source": [
    "X_train, X_test, y_train, y_test = train_test_split(X, y, test_size=.3, random_state=42) "
   ]
  },
  {
   "cell_type": "markdown",
   "metadata": {},
   "source": [
    "**Normalilze:** safe thing and required for many ML and other models, very small downside:  can lead to reduction in interpretation of the feature "
   ]
  },
  {
   "cell_type": "code",
   "execution_count": 50,
   "metadata": {},
   "outputs": [],
   "source": [
    "lm_model = LinearRegression(normalize=True)"
   ]
  },
  {
   "cell_type": "markdown",
   "metadata": {},
   "source": [
    "#### Fit"
   ]
  },
  {
   "cell_type": "markdown",
   "metadata": {},
   "source": [
    "Fit model by using training data."
   ]
  },
  {
   "cell_type": "code",
   "execution_count": 51,
   "metadata": {},
   "outputs": [],
   "source": [
    "reg = lm_model.fit(X_train, y_train)"
   ]
  },
  {
   "cell_type": "code",
   "execution_count": 52,
   "metadata": {},
   "outputs": [
    {
     "data": {
      "text/plain": [
       "0.5507120699447746"
      ]
     },
     "execution_count": 52,
     "metadata": {},
     "output_type": "execute_result"
    }
   ],
   "source": [
    "reg.score(X, y)"
   ]
  },
  {
   "cell_type": "markdown",
   "metadata": {},
   "source": [
    "#### Predict"
   ]
  },
  {
   "cell_type": "markdown",
   "metadata": {},
   "source": [
    "Predict using both, test and training data sets to see if the model is overfitting."
   ]
  },
  {
   "cell_type": "code",
   "execution_count": 53,
   "metadata": {},
   "outputs": [],
   "source": [
    "y_test_preds = lm_model.predict(X_test)"
   ]
  },
  {
   "cell_type": "code",
   "execution_count": 54,
   "metadata": {},
   "outputs": [],
   "source": [
    "y_train_preds = lm_model.predict(X_train)"
   ]
  },
  {
   "cell_type": "code",
   "execution_count": 55,
   "metadata": {},
   "outputs": [
    {
     "data": {
      "text/plain": [
       "array([ 77.68474071,  75.8967814 ,  78.21464201, ..., 228.34274392,\n",
       "       119.56770214, 172.03125918])"
      ]
     },
     "execution_count": 55,
     "metadata": {},
     "output_type": "execute_result"
    }
   ],
   "source": [
    "y_train_preds"
   ]
  },
  {
   "cell_type": "markdown",
   "metadata": {},
   "source": [
    "**Checking r_squared**"
   ]
  },
  {
   "cell_type": "code",
   "execution_count": 56,
   "metadata": {},
   "outputs": [],
   "source": [
    "r2_test = r2_score(y_test, y_test_preds)"
   ]
  },
  {
   "cell_type": "code",
   "execution_count": 57,
   "metadata": {},
   "outputs": [
    {
     "data": {
      "text/plain": [
       "0.47310908623772097"
      ]
     },
     "execution_count": 57,
     "metadata": {},
     "output_type": "execute_result"
    }
   ],
   "source": [
    "r2_test"
   ]
  },
  {
   "cell_type": "code",
   "execution_count": 58,
   "metadata": {},
   "outputs": [],
   "source": [
    "r2_train = r2_score(y_train, y_train_preds)"
   ]
  },
  {
   "cell_type": "code",
   "execution_count": 59,
   "metadata": {},
   "outputs": [
    {
     "data": {
      "text/plain": [
       "0.5872947785883351"
      ]
     },
     "execution_count": 59,
     "metadata": {},
     "output_type": "execute_result"
    }
   ],
   "source": [
    "r2_train"
   ]
  },
  {
   "cell_type": "markdown",
   "metadata": {},
   "source": [
    "### Finding the best model"
   ]
  },
  {
   "cell_type": "code",
   "execution_count": 60,
   "metadata": {},
   "outputs": [],
   "source": [
    "def find_optimal_lm_mod(X, y, cutoffs, test_size = .3, random_state=42, plot=True):\n",
    "    '''\n",
    "    INPUT\n",
    "    X - pandas dataframe, X matrix\n",
    "    y - pandas dataframe, response variable\n",
    "    cutoffs - list of ints, cutoff for number of non-zero values in dummy categorical vars\n",
    "    test_size - float between 0 and 1, default 0.3, determines the proportion of data as test data\n",
    "    random_state - int, default 42, controls random state for train_test_split\n",
    "    plot - boolean, default 0.3, True to plot result\n",
    "\n",
    "    OUTPUT\n",
    "    r2_scores_test - list of floats of r2 scores on the test data\n",
    "    r2_scores_train - list of floats of r2 scores on the train data\n",
    "    lm_model - model object from sklearn\n",
    "    X_train, X_test, y_train, y_test - output from sklearn train test split used for optimal model\n",
    "    '''\n",
    "    r2_scores_test, r2_scores_train, num_feats, results = [], [], [], dict()\n",
    "    for cutoff in cutoffs:\n",
    "\n",
    "        #reduce X matrix\n",
    "        reduce_X = X.iloc[:, np.where((X.sum() > cutoff) == True)[0]]\n",
    "        num_feats.append(reduce_X.shape[1])\n",
    "\n",
    "        #split the data into train and test\n",
    "        X_train, X_test, y_train, y_test = train_test_split(reduce_X, y, test_size = test_size, random_state=random_state)\n",
    "\n",
    "        #fit the model and obtain pred response\n",
    "        lm_model = LinearRegression(normalize=True)\n",
    "        lm_model.fit(X_train, y_train)\n",
    "        y_test_preds = lm_model.predict(X_test)\n",
    "        y_train_preds = lm_model.predict(X_train)\n",
    "\n",
    "        #append the r2 value from the test set\n",
    "        r2_scores_test.append(r2_score(y_test, y_test_preds))\n",
    "        r2_scores_train.append(r2_score(y_train, y_train_preds))\n",
    "        results[str(cutoff)] = r2_score(y_test, y_test_preds)\n",
    "\n",
    "    if plot:\n",
    "        plt.plot(num_feats, r2_scores_test, label=\"Test\", alpha=.5)\n",
    "        plt.plot(num_feats, r2_scores_train, label=\"Train\", alpha=.5)\n",
    "        plt.xlabel('Number of Features')\n",
    "        plt.ylabel('Rsquared')\n",
    "        plt.title('Rsquared by Number of Features')\n",
    "        plt.legend(loc=1)\n",
    "        plt.show()\n",
    "\n",
    "    best_cutoff = max(results, key=results.get)\n",
    "    print(best_cutoff)\n",
    "\n",
    "    #reduce X matrix\n",
    "    reduce_X = X.iloc[:, np.where((X.sum() > int(best_cutoff)) == True)[0]]\n",
    "    num_feats.append(reduce_X.shape[1])\n",
    "\n",
    "    #split the data into train and test\n",
    "    X_train, X_test, y_train, y_test = train_test_split(reduce_X, y, test_size = test_size, random_state=random_state)\n",
    "\n",
    "    #fit the model\n",
    "    lm_model = LinearRegression(normalize=True)\n",
    "    lm_model.fit(X_train, y_train)\n",
    "    \n",
    "    print(num_feats)\n",
    "    print(r2_scores_test)\n",
    "\n",
    "    return r2_scores_test, r2_scores_train, lm_model, X_train, X_test, y_train, y_test"
   ]
  },
  {
   "cell_type": "code",
   "execution_count": 61,
   "metadata": {},
   "outputs": [
    {
     "data": {
      "image/png": "[encoded data removed]",
      "text/plain": [
       "<Figure size 432x288 with 1 Axes>"
      ]
     },
     "metadata": {
      "needs_background": "light"
     },
     "output_type": "display_data"
    },
    {
     "name": "stdout",
     "output_type": "stream",
     "text": [
      "1\n",
      "[16, 22, 29, 42, 51, 55, 56, 58, 62, 67, 68, 67]\n",
      "[-0.7246835597825292, -0.008671260338529274, 0.06438080930996926, 0.4092427479007996, 0.4636035521134898, 0.4591468058312175, 0.4588993113477815, 0.45663899080964543, 0.4577960805109903, 0.473691431496047, 0.47310908623772097]\n"
     ]
    }
   ],
   "source": [
    "cutoffs = [5000, 2500, 1000, 100, 50, 30, 25, 10, 5, 1, 0]\n",
    "\n",
    "r2_scores_test, r2_scores_train, lm_model, X_train, X_test, y_train, y_test = find_optimal_lm_mod(X, y, cutoffs)"
   ]
  },
  {
   "cell_type": "code",
   "execution_count": 62,
   "metadata": {},
   "outputs": [
    {
     "data": {
      "text/plain": [
       "0.473691431496047"
      ]
     },
     "execution_count": 62,
     "metadata": {},
     "output_type": "execute_result"
    }
   ],
   "source": [
    "max(r2_scores_test)"
   ]
  },
  {
   "cell_type": "markdown",
   "metadata": {},
   "source": [
    "The model is performing best with 67 features."
   ]
  },
  {
   "cell_type": "markdown",
   "metadata": {},
   "source": [
    "### Show coefficients"
   ]
  },
  {
   "cell_type": "code",
   "execution_count": 63,
   "metadata": {},
   "outputs": [
    {
     "data": {
      "text/html": [
       "<div>\n",
       "<style scoped>\n",
       "    .dataframe tbody tr th:only-of-type {\n",
       "        vertical-align: middle;\n",
       "    }\n",
       "\n",
       "    .dataframe tbody tr th {\n",
       "        vertical-align: top;\n",
       "    }\n",
       "\n",
       "    .dataframe thead th {\n",
       "        text-align: right;\n",
       "    }\n",
       "</style>\n",
       "<table border=\"1\" class=\"dataframe\">\n",
       "  <thead>\n",
       "    <tr style=\"text-align: right;\">\n",
       "      <th></th>\n",
       "      <th>est_int</th>\n",
       "      <th>coefs</th>\n",
       "      <th>abs_coefs</th>\n",
       "    </tr>\n",
       "  </thead>\n",
       "  <tbody>\n",
       "    <tr>\n",
       "      <td>54</td>\n",
       "      <td>property_type_Dorm</td>\n",
       "      <td>-250.979528</td>\n",
       "      <td>250.979528</td>\n",
       "    </tr>\n",
       "    <tr>\n",
       "      <td>48</td>\n",
       "      <td>property_type_Boat</td>\n",
       "      <td>73.111074</td>\n",
       "      <td>73.111074</td>\n",
       "    </tr>\n",
       "    <tr>\n",
       "      <td>46</td>\n",
       "      <td>room_type_Shared room</td>\n",
       "      <td>-71.177915</td>\n",
       "      <td>71.177915</td>\n",
       "    </tr>\n",
       "    <tr>\n",
       "      <td>60</td>\n",
       "      <td>property_type_Treehouse</td>\n",
       "      <td>63.018812</td>\n",
       "      <td>63.018812</td>\n",
       "    </tr>\n",
       "    <tr>\n",
       "      <td>31</td>\n",
       "      <td>neighbourhood_group_cleansed_Cascade</td>\n",
       "      <td>45.441637</td>\n",
       "      <td>45.441637</td>\n",
       "    </tr>\n",
       "    <tr>\n",
       "      <td>34</td>\n",
       "      <td>neighbourhood_group_cleansed_Downtown</td>\n",
       "      <td>40.488611</td>\n",
       "      <td>40.488611</td>\n",
       "    </tr>\n",
       "    <tr>\n",
       "      <td>45</td>\n",
       "      <td>room_type_Private room</td>\n",
       "      <td>-36.368514</td>\n",
       "      <td>36.368514</td>\n",
       "    </tr>\n",
       "    <tr>\n",
       "      <td>40</td>\n",
       "      <td>neighbourhood_group_cleansed_Queen Anne</td>\n",
       "      <td>34.493469</td>\n",
       "      <td>34.493469</td>\n",
       "    </tr>\n",
       "    <tr>\n",
       "      <td>2</td>\n",
       "      <td>bedrooms</td>\n",
       "      <td>31.149006</td>\n",
       "      <td>31.149006</td>\n",
       "    </tr>\n",
       "    <tr>\n",
       "      <td>52</td>\n",
       "      <td>property_type_Chalet</td>\n",
       "      <td>29.831029</td>\n",
       "      <td>29.831029</td>\n",
       "    </tr>\n",
       "    <tr>\n",
       "      <td>61</td>\n",
       "      <td>bed_type_Couch</td>\n",
       "      <td>27.823918</td>\n",
       "      <td>27.823918</td>\n",
       "    </tr>\n",
       "    <tr>\n",
       "      <td>3</td>\n",
       "      <td>bathrooms</td>\n",
       "      <td>27.352084</td>\n",
       "      <td>27.352084</td>\n",
       "    </tr>\n",
       "    <tr>\n",
       "      <td>49</td>\n",
       "      <td>property_type_Bungalow</td>\n",
       "      <td>26.934722</td>\n",
       "      <td>26.934722</td>\n",
       "    </tr>\n",
       "    <tr>\n",
       "      <td>37</td>\n",
       "      <td>neighbourhood_group_cleansed_Magnolia</td>\n",
       "      <td>23.329941</td>\n",
       "      <td>23.329941</td>\n",
       "    </tr>\n",
       "    <tr>\n",
       "      <td>30</td>\n",
       "      <td>neighbourhood_group_cleansed_Capitol Hill</td>\n",
       "      <td>21.277759</td>\n",
       "      <td>21.277759</td>\n",
       "    </tr>\n",
       "    <tr>\n",
       "      <td>33</td>\n",
       "      <td>neighbourhood_group_cleansed_Delridge</td>\n",
       "      <td>-20.507491</td>\n",
       "      <td>20.507491</td>\n",
       "    </tr>\n",
       "    <tr>\n",
       "      <td>56</td>\n",
       "      <td>property_type_Loft</td>\n",
       "      <td>19.543050</td>\n",
       "      <td>19.543050</td>\n",
       "    </tr>\n",
       "    <tr>\n",
       "      <td>50</td>\n",
       "      <td>property_type_Cabin</td>\n",
       "      <td>17.172406</td>\n",
       "      <td>17.172406</td>\n",
       "    </tr>\n",
       "    <tr>\n",
       "      <td>41</td>\n",
       "      <td>neighbourhood_group_cleansed_Rainier Valley</td>\n",
       "      <td>-15.922961</td>\n",
       "      <td>15.922961</td>\n",
       "    </tr>\n",
       "    <tr>\n",
       "      <td>27</td>\n",
       "      <td>require_guest_profile_picture</td>\n",
       "      <td>15.327644</td>\n",
       "      <td>15.327644</td>\n",
       "    </tr>\n",
       "  </tbody>\n",
       "</table>\n",
       "</div>"
      ],
      "text/plain": [
       "                                        est_int       coefs   abs_coefs\n",
       "54                           property_type_Dorm -250.979528  250.979528\n",
       "48                           property_type_Boat   73.111074   73.111074\n",
       "46                        room_type_Shared room  -71.177915   71.177915\n",
       "60                      property_type_Treehouse   63.018812   63.018812\n",
       "31         neighbourhood_group_cleansed_Cascade   45.441637   45.441637\n",
       "34        neighbourhood_group_cleansed_Downtown   40.488611   40.488611\n",
       "45                       room_type_Private room  -36.368514   36.368514\n",
       "40      neighbourhood_group_cleansed_Queen Anne   34.493469   34.493469\n",
       "2                                      bedrooms   31.149006   31.149006\n",
       "52                         property_type_Chalet   29.831029   29.831029\n",
       "61                               bed_type_Couch   27.823918   27.823918\n",
       "3                                     bathrooms   27.352084   27.352084\n",
       "49                       property_type_Bungalow   26.934722   26.934722\n",
       "37        neighbourhood_group_cleansed_Magnolia   23.329941   23.329941\n",
       "30    neighbourhood_group_cleansed_Capitol Hill   21.277759   21.277759\n",
       "33        neighbourhood_group_cleansed_Delridge  -20.507491   20.507491\n",
       "56                           property_type_Loft   19.543050   19.543050\n",
       "50                          property_type_Cabin   17.172406   17.172406\n",
       "41  neighbourhood_group_cleansed_Rainier Valley  -15.922961   15.922961\n",
       "27                require_guest_profile_picture   15.327644   15.327644"
      ]
     },
     "execution_count": 63,
     "metadata": {},
     "output_type": "execute_result"
    }
   ],
   "source": [
    "def coef_weights(coefficients, X_train):\n",
    "    '''\n",
    "    INPUT:\n",
    "    coefficients - the coefficients of the linear model \n",
    "    X_train - the training data, so the column names can be used\n",
    "    OUTPUT:\n",
    "    coefs_df - a dataframe holding the coefficient, estimate, and abs(estimate)\n",
    "    \n",
    "    Provides a dataframe that can be used to understand the most influential coefficients\n",
    "    in a linear model by providing the coefficient estimates along with the name of the \n",
    "    variable attached to the coefficient.\n",
    "    '''\n",
    "    coefs_df = pd.DataFrame()\n",
    "    coefs_df['est_int'] = X_train.columns\n",
    "    coefs_df['coefs'] = lm_model.coef_\n",
    "    coefs_df['abs_coefs'] = np.abs(lm_model.coef_)\n",
    "    coefs_df = coefs_df.sort_values('abs_coefs', ascending=False)\n",
    "    return coefs_df\n",
    "\n",
    "#Use the function\n",
    "coef_df = coef_weights(lm_model.coef_, X_train)\n",
    "\n",
    "#A quick look at the top results\n",
    "coef_df.head(20)"
   ]
  },
  {
   "cell_type": "markdown",
   "metadata": {},
   "source": [
    "## 6 Answering Business Questions"
   ]
  },
  {
   "cell_type": "markdown",
   "metadata": {},
   "source": [
    "### Question 1 - Most expensive and lucrative areas"
   ]
  },
  {
   "cell_type": "code",
   "execution_count": 64,
   "metadata": {},
   "outputs": [
    {
     "name": "stdout",
     "output_type": "stream",
     "text": [
      "                               price      \n",
      "                                mean count\n",
      "neighbourhood_group_cleansed              \n",
      "Magnolia                      185.83    47\n",
      "Queen Anne                    161.40   246\n",
      "Downtown                      154.28   456\n",
      "Cascade                       145.34    65\n",
      "Capitol Hill                  129.14   460\n",
      "West Seattle                  128.99   162\n",
      "Central Area                  126.12   319\n",
      "Ballard                       123.65   193\n",
      "Other neighborhoods           118.00   656\n",
      "Seward Park                   108.10    39\n",
      "University District            97.31    96\n",
      "Lake City                      94.00    56\n",
      "Rainier Valley                 90.36   134\n",
      "Northgate                      90.15    65\n",
      "Interbay                       89.67     9\n",
      "Beacon Hill                    88.92   103\n",
      "Delridge                       81.37    65\n"
     ]
    }
   ],
   "source": [
    "df_neighbourhood_price = df_listings_clean.groupby(['neighbourhood_group_cleansed']).agg(['mean', 'count'])[[('price',  'mean'), ('price',  'count')]].sort_values(by=[('price',  'mean')], ascending=False)\n",
    "df_neighbourhood_price = round(df_neighbourhood_price,ndigits=2)\n",
    "print(df_neighbourhood_price)"
   ]
  },
  {
   "cell_type": "code",
   "execution_count": 82,
   "metadata": {
    "scrolled": true
   },
   "outputs": [
    {
     "data": {
      "image/png": "[encoded data removed]",
      "text/plain": [
       "<Figure size 720x720 with 1 Axes>"
      ]
     },
     "metadata": {
      "needs_background": "light"
     },
     "output_type": "display_data"
    }
   ],
   "source": [
    "x = df_neighbourhood_price.index\n",
    "y = df_neighbourhood_price[('price',  'mean')]\n",
    "\n",
    "x_pos = [i for i, _ in enumerate(x)]\n",
    "\n",
    "\n",
    "plt.figure(figsize=(10, 10))\n",
    "\n",
    "plt.xticks(rotation='vertical')\n",
    "plt.bar(x_pos, y, color='green')\n",
    "plt.xlabel(\"Neighborhood Group\")\n",
    "plt.ylabel(\"Average Listing Price in USD\")\n",
    "plt.title(\"How do different neighborhoods compare in terms of price?\")\n",
    "plt.xticks(x_pos, x)\n",
    "\n",
    "plt.show()"
   ]
  },
  {
   "cell_type": "markdown",
   "metadata": {},
   "source": [
    "We can see that prices are highest in Magnolia, Queen Anne, Downtown and Cascade. While the bar chart only shows the average prices, it doesn't take into account other factors that might influence those prices. Therefore I will look at the coefficients of the linear model."
   ]
  },
  {
   "cell_type": "code",
   "execution_count": 66,
   "metadata": {},
   "outputs": [
    {
     "data": {
      "text/html": [
       "<div>\n",
       "<style scoped>\n",
       "    .dataframe tbody tr th:only-of-type {\n",
       "        vertical-align: middle;\n",
       "    }\n",
       "\n",
       "    .dataframe tbody tr th {\n",
       "        vertical-align: top;\n",
       "    }\n",
       "\n",
       "    .dataframe thead th {\n",
       "        text-align: right;\n",
       "    }\n",
       "</style>\n",
       "<table border=\"1\" class=\"dataframe\">\n",
       "  <thead>\n",
       "    <tr style=\"text-align: right;\">\n",
       "      <th></th>\n",
       "      <th>est_int</th>\n",
       "      <th>coefs</th>\n",
       "      <th>abs_coefs</th>\n",
       "    </tr>\n",
       "  </thead>\n",
       "  <tbody>\n",
       "    <tr>\n",
       "      <td>31</td>\n",
       "      <td>neighbourhood_group_cleansed_Cascade</td>\n",
       "      <td>45.441637</td>\n",
       "      <td>45.441637</td>\n",
       "    </tr>\n",
       "    <tr>\n",
       "      <td>34</td>\n",
       "      <td>neighbourhood_group_cleansed_Downtown</td>\n",
       "      <td>40.488611</td>\n",
       "      <td>40.488611</td>\n",
       "    </tr>\n",
       "    <tr>\n",
       "      <td>40</td>\n",
       "      <td>neighbourhood_group_cleansed_Queen Anne</td>\n",
       "      <td>34.493469</td>\n",
       "      <td>34.493469</td>\n",
       "    </tr>\n",
       "    <tr>\n",
       "      <td>37</td>\n",
       "      <td>neighbourhood_group_cleansed_Magnolia</td>\n",
       "      <td>23.329941</td>\n",
       "      <td>23.329941</td>\n",
       "    </tr>\n",
       "    <tr>\n",
       "      <td>30</td>\n",
       "      <td>neighbourhood_group_cleansed_Capitol Hill</td>\n",
       "      <td>21.277759</td>\n",
       "      <td>21.277759</td>\n",
       "    </tr>\n",
       "    <tr>\n",
       "      <td>44</td>\n",
       "      <td>neighbourhood_group_cleansed_West Seattle</td>\n",
       "      <td>4.153797</td>\n",
       "      <td>4.153797</td>\n",
       "    </tr>\n",
       "    <tr>\n",
       "      <td>32</td>\n",
       "      <td>neighbourhood_group_cleansed_Central Area</td>\n",
       "      <td>1.550378</td>\n",
       "      <td>1.550378</td>\n",
       "    </tr>\n",
       "    <tr>\n",
       "      <td>39</td>\n",
       "      <td>neighbourhood_group_cleansed_Other neighborhoods</td>\n",
       "      <td>0.788138</td>\n",
       "      <td>0.788138</td>\n",
       "    </tr>\n",
       "    <tr>\n",
       "      <td>43</td>\n",
       "      <td>neighbourhood_group_cleansed_University District</td>\n",
       "      <td>-0.626807</td>\n",
       "      <td>0.626807</td>\n",
       "    </tr>\n",
       "    <tr>\n",
       "      <td>35</td>\n",
       "      <td>neighbourhood_group_cleansed_Interbay</td>\n",
       "      <td>-2.671745</td>\n",
       "      <td>2.671745</td>\n",
       "    </tr>\n",
       "    <tr>\n",
       "      <td>42</td>\n",
       "      <td>neighbourhood_group_cleansed_Seward Park</td>\n",
       "      <td>-5.163525</td>\n",
       "      <td>5.163525</td>\n",
       "    </tr>\n",
       "    <tr>\n",
       "      <td>36</td>\n",
       "      <td>neighbourhood_group_cleansed_Lake City</td>\n",
       "      <td>-7.794816</td>\n",
       "      <td>7.794816</td>\n",
       "    </tr>\n",
       "    <tr>\n",
       "      <td>38</td>\n",
       "      <td>neighbourhood_group_cleansed_Northgate</td>\n",
       "      <td>-13.335791</td>\n",
       "      <td>13.335791</td>\n",
       "    </tr>\n",
       "    <tr>\n",
       "      <td>29</td>\n",
       "      <td>neighbourhood_group_cleansed_Beacon Hill</td>\n",
       "      <td>-14.974473</td>\n",
       "      <td>14.974473</td>\n",
       "    </tr>\n",
       "    <tr>\n",
       "      <td>41</td>\n",
       "      <td>neighbourhood_group_cleansed_Rainier Valley</td>\n",
       "      <td>-15.922961</td>\n",
       "      <td>15.922961</td>\n",
       "    </tr>\n",
       "    <tr>\n",
       "      <td>33</td>\n",
       "      <td>neighbourhood_group_cleansed_Delridge</td>\n",
       "      <td>-20.507491</td>\n",
       "      <td>20.507491</td>\n",
       "    </tr>\n",
       "  </tbody>\n",
       "</table>\n",
       "</div>"
      ],
      "text/plain": [
       "                                             est_int      coefs  abs_coefs\n",
       "31              neighbourhood_group_cleansed_Cascade  45.441637  45.441637\n",
       "34             neighbourhood_group_cleansed_Downtown  40.488611  40.488611\n",
       "40           neighbourhood_group_cleansed_Queen Anne  34.493469  34.493469\n",
       "37             neighbourhood_group_cleansed_Magnolia  23.329941  23.329941\n",
       "30         neighbourhood_group_cleansed_Capitol Hill  21.277759  21.277759\n",
       "44         neighbourhood_group_cleansed_West Seattle   4.153797   4.153797\n",
       "32         neighbourhood_group_cleansed_Central Area   1.550378   1.550378\n",
       "39  neighbourhood_group_cleansed_Other neighborhoods   0.788138   0.788138\n",
       "43  neighbourhood_group_cleansed_University District  -0.626807   0.626807\n",
       "35             neighbourhood_group_cleansed_Interbay  -2.671745   2.671745\n",
       "42          neighbourhood_group_cleansed_Seward Park  -5.163525   5.163525\n",
       "36            neighbourhood_group_cleansed_Lake City  -7.794816   7.794816\n",
       "38            neighbourhood_group_cleansed_Northgate -13.335791  13.335791\n",
       "29          neighbourhood_group_cleansed_Beacon Hill -14.974473  14.974473\n",
       "41       neighbourhood_group_cleansed_Rainier Valley -15.922961  15.922961\n",
       "33             neighbourhood_group_cleansed_Delridge -20.507491  20.507491"
      ]
     },
     "execution_count": 66,
     "metadata": {},
     "output_type": "execute_result"
    }
   ],
   "source": [
    "coef_df[coef_df['est_int'].str.contains(\"neighbourhood_group_cleansed\")].sort_values(by=['coefs'],ascending=False)"
   ]
  },
  {
   "cell_type": "markdown",
   "metadata": {},
   "source": [
    "Looking at the top 4 coefficients, we can see that the same neighbourhoods that have the highest prices on average also have the highest positive impact on price. Interestingly, the order is different, though. It looks like there might be other factors than the location itself that drive prices up in Queen Anne and Magnlolia, which rank #1 and #2 on the average price but only #3 and #4 when it comes to the coefficients. "
   ]
  },
  {
   "cell_type": "markdown",
   "metadata": {},
   "source": [
    "### Question 2 - Which factors influence prices the most?"
   ]
  },
  {
   "cell_type": "markdown",
   "metadata": {},
   "source": [
    "While answering question 1, we have seen that other factors apart from the neighborhood seem to influence prices. We can check our coefficient list to identify them."
   ]
  },
  {
   "cell_type": "markdown",
   "metadata": {},
   "source": [
    "#### Top 10 Factors having a positive impact on price"
   ]
  },
  {
   "cell_type": "code",
   "execution_count": 67,
   "metadata": {},
   "outputs": [
    {
     "data": {
      "text/html": [
       "<div>\n",
       "<style scoped>\n",
       "    .dataframe tbody tr th:only-of-type {\n",
       "        vertical-align: middle;\n",
       "    }\n",
       "\n",
       "    .dataframe tbody tr th {\n",
       "        vertical-align: top;\n",
       "    }\n",
       "\n",
       "    .dataframe thead th {\n",
       "        text-align: right;\n",
       "    }\n",
       "</style>\n",
       "<table border=\"1\" class=\"dataframe\">\n",
       "  <thead>\n",
       "    <tr style=\"text-align: right;\">\n",
       "      <th></th>\n",
       "      <th>est_int</th>\n",
       "      <th>coefs</th>\n",
       "      <th>abs_coefs</th>\n",
       "    </tr>\n",
       "  </thead>\n",
       "  <tbody>\n",
       "    <tr>\n",
       "      <td>48</td>\n",
       "      <td>property_type_Boat</td>\n",
       "      <td>73.111074</td>\n",
       "      <td>73.111074</td>\n",
       "    </tr>\n",
       "    <tr>\n",
       "      <td>60</td>\n",
       "      <td>property_type_Treehouse</td>\n",
       "      <td>63.018812</td>\n",
       "      <td>63.018812</td>\n",
       "    </tr>\n",
       "    <tr>\n",
       "      <td>31</td>\n",
       "      <td>neighbourhood_group_cleansed_Cascade</td>\n",
       "      <td>45.441637</td>\n",
       "      <td>45.441637</td>\n",
       "    </tr>\n",
       "    <tr>\n",
       "      <td>34</td>\n",
       "      <td>neighbourhood_group_cleansed_Downtown</td>\n",
       "      <td>40.488611</td>\n",
       "      <td>40.488611</td>\n",
       "    </tr>\n",
       "    <tr>\n",
       "      <td>40</td>\n",
       "      <td>neighbourhood_group_cleansed_Queen Anne</td>\n",
       "      <td>34.493469</td>\n",
       "      <td>34.493469</td>\n",
       "    </tr>\n",
       "    <tr>\n",
       "      <td>2</td>\n",
       "      <td>bedrooms</td>\n",
       "      <td>31.149006</td>\n",
       "      <td>31.149006</td>\n",
       "    </tr>\n",
       "    <tr>\n",
       "      <td>52</td>\n",
       "      <td>property_type_Chalet</td>\n",
       "      <td>29.831029</td>\n",
       "      <td>29.831029</td>\n",
       "    </tr>\n",
       "    <tr>\n",
       "      <td>61</td>\n",
       "      <td>bed_type_Couch</td>\n",
       "      <td>27.823918</td>\n",
       "      <td>27.823918</td>\n",
       "    </tr>\n",
       "    <tr>\n",
       "      <td>3</td>\n",
       "      <td>bathrooms</td>\n",
       "      <td>27.352084</td>\n",
       "      <td>27.352084</td>\n",
       "    </tr>\n",
       "    <tr>\n",
       "      <td>49</td>\n",
       "      <td>property_type_Bungalow</td>\n",
       "      <td>26.934722</td>\n",
       "      <td>26.934722</td>\n",
       "    </tr>\n",
       "  </tbody>\n",
       "</table>\n",
       "</div>"
      ],
      "text/plain": [
       "                                    est_int      coefs  abs_coefs\n",
       "48                       property_type_Boat  73.111074  73.111074\n",
       "60                  property_type_Treehouse  63.018812  63.018812\n",
       "31     neighbourhood_group_cleansed_Cascade  45.441637  45.441637\n",
       "34    neighbourhood_group_cleansed_Downtown  40.488611  40.488611\n",
       "40  neighbourhood_group_cleansed_Queen Anne  34.493469  34.493469\n",
       "2                                  bedrooms  31.149006  31.149006\n",
       "52                     property_type_Chalet  29.831029  29.831029\n",
       "61                           bed_type_Couch  27.823918  27.823918\n",
       "3                                 bathrooms  27.352084  27.352084\n",
       "49                   property_type_Bungalow  26.934722  26.934722"
      ]
     },
     "execution_count": 67,
     "metadata": {},
     "output_type": "execute_result"
    }
   ],
   "source": [
    "coef_df[coef_df['coefs'] > 0].sort_values(by=['coefs'],ascending=False).head(10)"
   ]
  },
  {
   "cell_type": "markdown",
   "metadata": {},
   "source": [
    "While 3 of 4 neighbourhoods we identified as most expensive are in the list of top 10 factors positively influencing price, we can clearly see that other factors play a role as well.\n",
    "\n",
    "The property type appears 4 times in the top 10 list. Exclusive and fancy property types like boats, treehouses or chalets have a very strong impact on prices. Boats and treehouses raise the price by 60-75 dollars. This makes sense as I could imagine that people who love to travel want to have a unique experience and are therefore willing to pay more for such unusual housing types.\n",
    "\n",
    "The number of bedrooms and bathrooms also have a strong positive correlation with price. This makes sense as an increasing number of bedrooms and bathrooms mean that the property can accomodate more people. As you don't pay per person but usually rent the whole place the price can be shared amongs more people. We would probabaly see a similar correlation when it comes to the size of the apartment, but unfortunately those values were not available for most listings. Therefore I had to drop the square feet column."
   ]
  },
  {
   "cell_type": "markdown",
   "metadata": {},
   "source": [
    "#### Top 10 Factors having a negative impact on price"
   ]
  },
  {
   "cell_type": "code",
   "execution_count": 68,
   "metadata": {
    "scrolled": false
   },
   "outputs": [
    {
     "data": {
      "text/html": [
       "<div>\n",
       "<style scoped>\n",
       "    .dataframe tbody tr th:only-of-type {\n",
       "        vertical-align: middle;\n",
       "    }\n",
       "\n",
       "    .dataframe tbody tr th {\n",
       "        vertical-align: top;\n",
       "    }\n",
       "\n",
       "    .dataframe thead th {\n",
       "        text-align: right;\n",
       "    }\n",
       "</style>\n",
       "<table border=\"1\" class=\"dataframe\">\n",
       "  <thead>\n",
       "    <tr style=\"text-align: right;\">\n",
       "      <th></th>\n",
       "      <th>est_int</th>\n",
       "      <th>coefs</th>\n",
       "      <th>abs_coefs</th>\n",
       "    </tr>\n",
       "  </thead>\n",
       "  <tbody>\n",
       "    <tr>\n",
       "      <td>54</td>\n",
       "      <td>property_type_Dorm</td>\n",
       "      <td>-250.979528</td>\n",
       "      <td>250.979528</td>\n",
       "    </tr>\n",
       "    <tr>\n",
       "      <td>46</td>\n",
       "      <td>room_type_Shared room</td>\n",
       "      <td>-71.177915</td>\n",
       "      <td>71.177915</td>\n",
       "    </tr>\n",
       "    <tr>\n",
       "      <td>45</td>\n",
       "      <td>room_type_Private room</td>\n",
       "      <td>-36.368514</td>\n",
       "      <td>36.368514</td>\n",
       "    </tr>\n",
       "    <tr>\n",
       "      <td>33</td>\n",
       "      <td>neighbourhood_group_cleansed_Delridge</td>\n",
       "      <td>-20.507491</td>\n",
       "      <td>20.507491</td>\n",
       "    </tr>\n",
       "    <tr>\n",
       "      <td>41</td>\n",
       "      <td>neighbourhood_group_cleansed_Rainier Valley</td>\n",
       "      <td>-15.922961</td>\n",
       "      <td>15.922961</td>\n",
       "    </tr>\n",
       "    <tr>\n",
       "      <td>29</td>\n",
       "      <td>neighbourhood_group_cleansed_Beacon Hill</td>\n",
       "      <td>-14.974473</td>\n",
       "      <td>14.974473</td>\n",
       "    </tr>\n",
       "    <tr>\n",
       "      <td>38</td>\n",
       "      <td>neighbourhood_group_cleansed_Northgate</td>\n",
       "      <td>-13.335791</td>\n",
       "      <td>13.335791</td>\n",
       "    </tr>\n",
       "    <tr>\n",
       "      <td>25</td>\n",
       "      <td>xl_picture_available</td>\n",
       "      <td>-11.416893</td>\n",
       "      <td>11.416893</td>\n",
       "    </tr>\n",
       "    <tr>\n",
       "      <td>10</td>\n",
       "      <td>instant_bookable</td>\n",
       "      <td>-9.482289</td>\n",
       "      <td>9.482289</td>\n",
       "    </tr>\n",
       "    <tr>\n",
       "      <td>19</td>\n",
       "      <td>review_scores_value</td>\n",
       "      <td>-9.118026</td>\n",
       "      <td>9.118026</td>\n",
       "    </tr>\n",
       "  </tbody>\n",
       "</table>\n",
       "</div>"
      ],
      "text/plain": [
       "                                        est_int       coefs   abs_coefs\n",
       "54                           property_type_Dorm -250.979528  250.979528\n",
       "46                        room_type_Shared room  -71.177915   71.177915\n",
       "45                       room_type_Private room  -36.368514   36.368514\n",
       "33        neighbourhood_group_cleansed_Delridge  -20.507491   20.507491\n",
       "41  neighbourhood_group_cleansed_Rainier Valley  -15.922961   15.922961\n",
       "29     neighbourhood_group_cleansed_Beacon Hill  -14.974473   14.974473\n",
       "38       neighbourhood_group_cleansed_Northgate  -13.335791   13.335791\n",
       "25                         xl_picture_available  -11.416893   11.416893\n",
       "10                             instant_bookable   -9.482289    9.482289\n",
       "19                          review_scores_value   -9.118026    9.118026"
      ]
     },
     "execution_count": 68,
     "metadata": {},
     "output_type": "execute_result"
    }
   ],
   "source": [
    "coef_df[coef_df['coefs'] < 0].sort_values(by=['coefs'], ascending=True).head(10)"
   ]
  },
  {
   "cell_type": "markdown",
   "metadata": {},
   "source": [
    "Now looking at the most negative influencing factors, we see neighborhoods are again present here. Delridge, Rainer Valley, Beacon Hill and Northgate are also among the lowest 5 when it comes to average prices.\n",
    "\n",
    "If your propoerty type is a dorm, prices will be around 251 dollars lower, according to the model. This aligns with the second strongest negative influence: whether the room is shared or not. \n",
    "\n",
    "The same trend can be seen when looking at number three in terms of negative influence. A private room also seems to lower the price a potential landlord could ask for. While private room sounds like the opposite of a shared room, it actually still means you could share other rooms and amenities with other people. This is the definition of a private room, according to Airbnb:\n",
    "\n",
    "_\"Private rooms are great when you prefer a little privacy, yet still value a local connection. When you book a private room, you'll have your own private room for sleeping and may share some spaces with others. You might need to walk through indoor spaces that another host or guest may occupy to get to your room.\"_\n",
    "\n",
    "All the other coefficients only have a small negative impact on the room price. "
   ]
  },
  {
   "cell_type": "code",
   "execution_count": 69,
   "metadata": {},
   "outputs": [
    {
     "name": "stdout",
     "output_type": "stream",
     "text": [
      "Coefficients having a positive impact:\n",
      "38\n",
      "Coefficients having a negative impact:\n",
      "29\n"
     ]
    }
   ],
   "source": [
    "print(\"Coefficients having a positive impact:\")\n",
    "print(coef_df[coef_df['coefs'] > 0].count()[0])\n",
    "print(\"Coefficients having a negative impact:\")\n",
    "print(coef_df[coef_df['coefs'] < 0].count()[0])"
   ]
  },
  {
   "cell_type": "markdown",
   "metadata": {},
   "source": [
    "### Question 3 - Should our friend invest in his apartment?"
   ]
  },
  {
   "cell_type": "markdown",
   "metadata": {},
   "source": [
    "In the following analysis I will look at two options:\n",
    "- Rent room as a loft for one person\n",
    "- Split rooms and rent two private rooms that share bathroom and kitchen. Since my friend currently only has one bed, one room is only equipped with a couch."
   ]
  },
  {
   "cell_type": "code",
   "execution_count": 70,
   "metadata": {},
   "outputs": [],
   "source": [
    "cols = pd.DataFrame(X_test.columns)"
   ]
  },
  {
   "cell_type": "code",
   "execution_count": 71,
   "metadata": {},
   "outputs": [],
   "source": [
    "cols.to_csv(r'C:\\Users\\carst\\OneDrive\\04 Coding\\Udacity-Data-Science\\Project 1\\Data\\cols.csv', index = True)"
   ]
  },
  {
   "cell_type": "code",
   "execution_count": 72,
   "metadata": {},
   "outputs": [],
   "source": [
    "samples_filled = pd.read_csv('./Data/samples_filled.csv', delimiter=';')\n",
    "samples_filled = samples_filled.drop(labels='ColNumber',axis=1)"
   ]
  },
  {
   "cell_type": "code",
   "execution_count": 73,
   "metadata": {},
   "outputs": [
    {
     "data": {
      "text/html": [
       "<div>\n",
       "<style scoped>\n",
       "    .dataframe tbody tr th:only-of-type {\n",
       "        vertical-align: middle;\n",
       "    }\n",
       "\n",
       "    .dataframe tbody tr th {\n",
       "        vertical-align: top;\n",
       "    }\n",
       "\n",
       "    .dataframe thead th {\n",
       "        text-align: right;\n",
       "    }\n",
       "</style>\n",
       "<table border=\"1\" class=\"dataframe\">\n",
       "  <thead>\n",
       "    <tr style=\"text-align: right;\">\n",
       "      <th></th>\n",
       "      <th>ColName</th>\n",
       "      <th>Loft</th>\n",
       "      <th>Shared_1</th>\n",
       "      <th>Shared_2</th>\n",
       "    </tr>\n",
       "  </thead>\n",
       "  <tbody>\n",
       "    <tr>\n",
       "      <td>0</td>\n",
       "      <td>accommodates</td>\n",
       "      <td>1.0</td>\n",
       "      <td>1.0</td>\n",
       "      <td>1.0</td>\n",
       "    </tr>\n",
       "    <tr>\n",
       "      <td>1</td>\n",
       "      <td>beds</td>\n",
       "      <td>1.0</td>\n",
       "      <td>1.0</td>\n",
       "      <td>1.0</td>\n",
       "    </tr>\n",
       "    <tr>\n",
       "      <td>2</td>\n",
       "      <td>bedrooms</td>\n",
       "      <td>1.0</td>\n",
       "      <td>1.0</td>\n",
       "      <td>1.0</td>\n",
       "    </tr>\n",
       "    <tr>\n",
       "      <td>3</td>\n",
       "      <td>bathrooms</td>\n",
       "      <td>1.0</td>\n",
       "      <td>1.0</td>\n",
       "      <td>1.0</td>\n",
       "    </tr>\n",
       "    <tr>\n",
       "      <td>4</td>\n",
       "      <td>guests_included</td>\n",
       "      <td>2.0</td>\n",
       "      <td>2.0</td>\n",
       "      <td>2.0</td>\n",
       "    </tr>\n",
       "    <tr>\n",
       "      <td>5</td>\n",
       "      <td>extra_people</td>\n",
       "      <td>3.0</td>\n",
       "      <td>3.0</td>\n",
       "      <td>3.0</td>\n",
       "    </tr>\n",
       "    <tr>\n",
       "      <td>6</td>\n",
       "      <td>security_deposit_required</td>\n",
       "      <td>1.0</td>\n",
       "      <td>1.0</td>\n",
       "      <td>1.0</td>\n",
       "    </tr>\n",
       "    <tr>\n",
       "      <td>7</td>\n",
       "      <td>minimum_nights</td>\n",
       "      <td>1.0</td>\n",
       "      <td>1.0</td>\n",
       "      <td>1.0</td>\n",
       "    </tr>\n",
       "    <tr>\n",
       "      <td>8</td>\n",
       "      <td>maximum_nights</td>\n",
       "      <td>30.0</td>\n",
       "      <td>30.0</td>\n",
       "      <td>30.0</td>\n",
       "    </tr>\n",
       "    <tr>\n",
       "      <td>9</td>\n",
       "      <td>availability_365</td>\n",
       "      <td>365.0</td>\n",
       "      <td>365.0</td>\n",
       "      <td>365.0</td>\n",
       "    </tr>\n",
       "  </tbody>\n",
       "</table>\n",
       "</div>"
      ],
      "text/plain": [
       "                     ColName   Loft  Shared_1  Shared_2\n",
       "0               accommodates    1.0       1.0       1.0\n",
       "1                       beds    1.0       1.0       1.0\n",
       "2                   bedrooms    1.0       1.0       1.0\n",
       "3                  bathrooms    1.0       1.0       1.0\n",
       "4            guests_included    2.0       2.0       2.0\n",
       "5               extra_people    3.0       3.0       3.0\n",
       "6  security_deposit_required    1.0       1.0       1.0\n",
       "7             minimum_nights    1.0       1.0       1.0\n",
       "8             maximum_nights   30.0      30.0      30.0\n",
       "9           availability_365  365.0     365.0     365.0"
      ]
     },
     "execution_count": 73,
     "metadata": {},
     "output_type": "execute_result"
    }
   ],
   "source": [
    "samples_filled.head(10)"
   ]
  },
  {
   "cell_type": "code",
   "execution_count": 74,
   "metadata": {},
   "outputs": [
    {
     "data": {
      "text/html": [
       "<div>\n",
       "<style scoped>\n",
       "    .dataframe tbody tr th:only-of-type {\n",
       "        vertical-align: middle;\n",
       "    }\n",
       "\n",
       "    .dataframe tbody tr th {\n",
       "        vertical-align: top;\n",
       "    }\n",
       "\n",
       "    .dataframe thead th {\n",
       "        text-align: right;\n",
       "    }\n",
       "</style>\n",
       "<table border=\"1\" class=\"dataframe\">\n",
       "  <thead>\n",
       "    <tr style=\"text-align: right;\">\n",
       "      <th></th>\n",
       "      <th>ColName</th>\n",
       "      <th>Loft</th>\n",
       "      <th>Shared_1</th>\n",
       "      <th>Shared_2</th>\n",
       "    </tr>\n",
       "  </thead>\n",
       "  <tbody>\n",
       "    <tr>\n",
       "      <td>14</td>\n",
       "      <td>review_scores_rating</td>\n",
       "      <td>NaN</td>\n",
       "      <td>NaN</td>\n",
       "      <td>NaN</td>\n",
       "    </tr>\n",
       "    <tr>\n",
       "      <td>15</td>\n",
       "      <td>review_scores_accuracy</td>\n",
       "      <td>NaN</td>\n",
       "      <td>NaN</td>\n",
       "      <td>NaN</td>\n",
       "    </tr>\n",
       "    <tr>\n",
       "      <td>16</td>\n",
       "      <td>review_scores_communication</td>\n",
       "      <td>NaN</td>\n",
       "      <td>NaN</td>\n",
       "      <td>NaN</td>\n",
       "    </tr>\n",
       "    <tr>\n",
       "      <td>17</td>\n",
       "      <td>review_scores_location</td>\n",
       "      <td>NaN</td>\n",
       "      <td>NaN</td>\n",
       "      <td>NaN</td>\n",
       "    </tr>\n",
       "    <tr>\n",
       "      <td>18</td>\n",
       "      <td>review_scores_checkin</td>\n",
       "      <td>NaN</td>\n",
       "      <td>NaN</td>\n",
       "      <td>NaN</td>\n",
       "    </tr>\n",
       "    <tr>\n",
       "      <td>19</td>\n",
       "      <td>review_scores_value</td>\n",
       "      <td>NaN</td>\n",
       "      <td>NaN</td>\n",
       "      <td>NaN</td>\n",
       "    </tr>\n",
       "  </tbody>\n",
       "</table>\n",
       "</div>"
      ],
      "text/plain": [
       "                        ColName  Loft  Shared_1  Shared_2\n",
       "14         review_scores_rating   NaN       NaN       NaN\n",
       "15       review_scores_accuracy   NaN       NaN       NaN\n",
       "16  review_scores_communication   NaN       NaN       NaN\n",
       "17       review_scores_location   NaN       NaN       NaN\n",
       "18        review_scores_checkin   NaN       NaN       NaN\n",
       "19          review_scores_value   NaN       NaN       NaN"
      ]
     },
     "execution_count": 74,
     "metadata": {},
     "output_type": "execute_result"
    }
   ],
   "source": [
    "samples_filled[samples_filled['Loft'].isna()]"
   ]
  },
  {
   "cell_type": "code",
   "execution_count": 75,
   "metadata": {},
   "outputs": [
    {
     "name": "stdout",
     "output_type": "stream",
     "text": [
      "14           review_scores_rating\n",
      "15         review_scores_accuracy\n",
      "16    review_scores_communication\n",
      "17         review_scores_location\n",
      "18          review_scores_checkin\n",
      "19            review_scores_value\n",
      "Name: ColName, dtype: object\n"
     ]
    }
   ],
   "source": [
    "null_feature_cols = samples_filled[samples_filled['Loft'].isna()]['ColName']\n",
    "print(null_feature_cols)"
   ]
  },
  {
   "cell_type": "markdown",
   "metadata": {},
   "source": [
    "Since the listing is not online yet, there are no ratings. I can't feed the model with NaN values, therefore I will use the mean of our dataset."
   ]
  },
  {
   "cell_type": "code",
   "execution_count": 76,
   "metadata": {},
   "outputs": [
    {
     "data": {
      "text/plain": [
       "review_scores_rating           94.539262\n",
       "review_scores_accuracy          9.636392\n",
       "review_scores_communication     9.809599\n",
       "review_scores_location          9.608916\n",
       "review_scores_checkin           9.786709\n",
       "review_scores_value             9.452245\n",
       "dtype: float64"
      ]
     },
     "execution_count": 76,
     "metadata": {},
     "output_type": "execute_result"
    }
   ],
   "source": [
    "review_means = df_listings_clean[null_feature_cols].mean()\n",
    "review_means"
   ]
  },
  {
   "cell_type": "code",
   "execution_count": 77,
   "metadata": {},
   "outputs": [],
   "source": [
    "for index in null_feature_cols.index:\n",
    "    samples_filled.iloc[index,:] = samples_filled.iloc[index,:].fillna(review_means[index-14])"
   ]
  },
  {
   "cell_type": "markdown",
   "metadata": {},
   "source": [
    "Let's check where our samples are different."
   ]
  },
  {
   "cell_type": "code",
   "execution_count": 78,
   "metadata": {},
   "outputs": [
    {
     "data": {
      "text/html": [
       "<div>\n",
       "<style scoped>\n",
       "    .dataframe tbody tr th:only-of-type {\n",
       "        vertical-align: middle;\n",
       "    }\n",
       "\n",
       "    .dataframe tbody tr th {\n",
       "        vertical-align: top;\n",
       "    }\n",
       "\n",
       "    .dataframe thead th {\n",
       "        text-align: right;\n",
       "    }\n",
       "</style>\n",
       "<table border=\"1\" class=\"dataframe\">\n",
       "  <thead>\n",
       "    <tr style=\"text-align: right;\">\n",
       "      <th></th>\n",
       "      <th>ColName</th>\n",
       "      <th>Loft</th>\n",
       "      <th>Shared_1</th>\n",
       "      <th>Shared_2</th>\n",
       "    </tr>\n",
       "  </thead>\n",
       "  <tbody>\n",
       "    <tr>\n",
       "      <td>45</td>\n",
       "      <td>room_type_Private room</td>\n",
       "      <td>0.0</td>\n",
       "      <td>1.0</td>\n",
       "      <td>1.0</td>\n",
       "    </tr>\n",
       "    <tr>\n",
       "      <td>56</td>\n",
       "      <td>property_type_Loft</td>\n",
       "      <td>1.0</td>\n",
       "      <td>0.0</td>\n",
       "      <td>0.0</td>\n",
       "    </tr>\n",
       "    <tr>\n",
       "      <td>63</td>\n",
       "      <td>bed_type_Pull-out Sofa</td>\n",
       "      <td>0.0</td>\n",
       "      <td>0.0</td>\n",
       "      <td>1.0</td>\n",
       "    </tr>\n",
       "    <tr>\n",
       "      <td>64</td>\n",
       "      <td>bed_type_Real Bed</td>\n",
       "      <td>1.0</td>\n",
       "      <td>1.0</td>\n",
       "      <td>0.0</td>\n",
       "    </tr>\n",
       "  </tbody>\n",
       "</table>\n",
       "</div>"
      ],
      "text/plain": [
       "                   ColName  Loft  Shared_1  Shared_2\n",
       "45  room_type_Private room   0.0       1.0       1.0\n",
       "56      property_type_Loft   1.0       0.0       0.0\n",
       "63  bed_type_Pull-out Sofa   0.0       0.0       1.0\n",
       "64       bed_type_Real Bed   1.0       1.0       0.0"
      ]
     },
     "execution_count": 78,
     "metadata": {},
     "output_type": "execute_result"
    }
   ],
   "source": [
    "samples_filled[samples_filled['Loft'] != samples_filled['Shared_2']]"
   ]
  },
  {
   "cell_type": "markdown",
   "metadata": {},
   "source": [
    "Predict prices using our linear model."
   ]
  },
  {
   "cell_type": "code",
   "execution_count": 85,
   "metadata": {},
   "outputs": [],
   "source": [
    "samples_filled_model = samples_filled.set_index('ColName').transpose()\n",
    "samples_pred = lm_model.predict(samples_filled_model)\n",
    "samples_pred = round(pd.DataFrame(samples_pred), 2)"
   ]
  },
  {
   "cell_type": "code",
   "execution_count": 86,
   "metadata": {},
   "outputs": [
    {
     "data": {
      "text/html": [
       "<div>\n",
       "<style scoped>\n",
       "    .dataframe tbody tr th:only-of-type {\n",
       "        vertical-align: middle;\n",
       "    }\n",
       "\n",
       "    .dataframe tbody tr th {\n",
       "        vertical-align: top;\n",
       "    }\n",
       "\n",
       "    .dataframe thead th {\n",
       "        text-align: right;\n",
       "    }\n",
       "</style>\n",
       "<table border=\"1\" class=\"dataframe\">\n",
       "  <thead>\n",
       "    <tr style=\"text-align: right;\">\n",
       "      <th></th>\n",
       "      <th>0</th>\n",
       "    </tr>\n",
       "  </thead>\n",
       "  <tbody>\n",
       "    <tr>\n",
       "      <td>0</td>\n",
       "      <td>158.05</td>\n",
       "    </tr>\n",
       "    <tr>\n",
       "      <td>1</td>\n",
       "      <td>102.14</td>\n",
       "    </tr>\n",
       "    <tr>\n",
       "      <td>2</td>\n",
       "      <td>93.31</td>\n",
       "    </tr>\n",
       "  </tbody>\n",
       "</table>\n",
       "</div>"
      ],
      "text/plain": [
       "        0\n",
       "0  158.05\n",
       "1  102.14\n",
       "2   93.31"
      ]
     },
     "execution_count": 86,
     "metadata": {},
     "output_type": "execute_result"
    }
   ],
   "source": [
    "samples_pred"
   ]
  },
  {
   "cell_type": "code",
   "execution_count": 83,
   "metadata": {},
   "outputs": [
    {
     "name": "stdout",
     "output_type": "stream",
     "text": [
      "Option 1: 158.05 dollars per night.\n",
      "Option 2: 195.45 dollars per night if both are rented.\n"
     ]
    }
   ],
   "source": [
    "print(\"Option 1: \" + str(samples_pred[0][0]) + \" dollars per night.\")\n",
    "print(\"Option 2: \" + str(samples_pred[0][1] + samples_pred[0][2]) + \" dollars per night if both are rented.\")"
   ]
  }
 ],
 "metadata": {
  "kernelspec": {
   "display_name": "Python 3",
   "language": "python",
   "name": "python3"
  },
  "language_info": {
   "codemirror_mode": {
    "name": "ipython",
    "version": 3
   },
   "file_extension": ".py",
   "mimetype": "text/x-python",
   "name": "python",
   "nbconvert_exporter": "python",
   "pygments_lexer": "ipython3",
   "version": "3.7.4"
  }
 },
 "nbformat": 4,
 "nbformat_minor": 2
}
